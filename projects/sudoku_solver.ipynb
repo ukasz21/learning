{
  "nbformat": 4,
  "nbformat_minor": 0,
  "metadata": {
    "colab": {
      "provenance": [],
      "authorship_tag": "ABX9TyO9al+MnqKnN6eZIDtQtNP9",
      "include_colab_link": true
    },
    "kernelspec": {
      "name": "python3",
      "display_name": "Python 3"
    },
    "language_info": {
      "name": "python"
    }
  },
  "cells": [
    {
      "cell_type": "markdown",
      "metadata": {
        "id": "view-in-github",
        "colab_type": "text"
      },
      "source": [
        "<a href=\"https://colab.research.google.com/github/ukasz21/learning/blob/main/projects/sudoku_solver.ipynb\" target=\"_parent\"><img src=\"https://colab.research.google.com/assets/colab-badge.svg\" alt=\"Open In Colab\"/></a>"
      ]
    },
    {
      "cell_type": "code",
      "execution_count": 1,
      "metadata": {
        "id": "ejYaei4MYC3c"
      },
      "outputs": [],
      "source": [
        "import numpy as np"
      ]
    },
    {
      "cell_type": "markdown",
      "source": [
        "# Test Grid"
      ],
      "metadata": {
        "id": "2mgZjD2LJssg"
      }
    },
    {
      "cell_type": "code",
      "source": [
        "grid = np.full((9,9), 0)\n",
        "grid[0] = [1, 2, 3, 4, 5, 6, 7, 8, 9]\n",
        "grid.T[0] = [1, 8, 9, 4, 5, 6, 7, 2, 3]\n",
        "grid[1:3, 1:3] = [[4, 5], [6, 7]]\n",
        "grid"
      ],
      "metadata": {
        "colab": {
          "base_uri": "https://localhost:8080/"
        },
        "id": "nk73ObvYYEDD",
        "outputId": "38666217-f31d-4363-d371-c478aebb515c"
      },
      "execution_count": 358,
      "outputs": [
        {
          "output_type": "execute_result",
          "data": {
            "text/plain": [
              "array([[1, 2, 3, 4, 5, 6, 7, 8, 9],\n",
              "       [8, 4, 5, 0, 0, 0, 0, 0, 0],\n",
              "       [9, 6, 7, 0, 0, 0, 0, 0, 0],\n",
              "       [4, 0, 0, 0, 0, 0, 0, 0, 0],\n",
              "       [5, 0, 0, 0, 0, 0, 0, 0, 0],\n",
              "       [6, 0, 0, 0, 0, 0, 0, 0, 0],\n",
              "       [7, 0, 0, 0, 0, 0, 0, 0, 0],\n",
              "       [2, 0, 0, 0, 0, 0, 0, 0, 0],\n",
              "       [3, 0, 0, 0, 0, 0, 0, 0, 0]])"
            ]
          },
          "metadata": {},
          "execution_count": 358
        }
      ]
    },
    {
      "cell_type": "markdown",
      "source": [
        "# class that checks sudoku"
      ],
      "metadata": {
        "id": "aslv8cqkJyJE"
      }
    },
    {
      "cell_type": "code",
      "source": [
        "class Check_sudoku:\n",
        "\n",
        "  def __init__(self, grid):\n",
        "    self.grid = grid\n",
        "\n",
        "  def checking(grid):\n",
        "    errors = []\n",
        "\n",
        "    # rows\n",
        "    for idx, row in enumerate(grid):\n",
        "      row_sum = row.sum()\n",
        "      if row_sum != 45:\n",
        "        errors.append(f'Row {idx+1} error (Sum: {row_sum})')\n",
        "\n",
        "    # cols\n",
        "    for idx, col in enumerate(grid.T):\n",
        "      col_sum = col.sum()\n",
        "      if col_sum != 45:\n",
        "        errors.append(f'Column {idx+1} error (Sum: {col_sum})')\n",
        "\n",
        "    # sections\n",
        "    grid_sections = grid[0:3, 0:3], grid[3:6, 0:3], grid[6:9, 0:3], grid[0:3, 3:6], grid[3:6, 3:6], grid[6:9, 3:6], grid[0:3, 6:9], grid[3:6, 6:9], grid[6:9, 6:9]\n",
        "\n",
        "    for idx, grid_section in enumerate(grid_sections):\n",
        "      grid_unique = np.unique(grid_section)\n",
        "      grid_section = grid_section.reshape(9)\n",
        "      if grid_section.sum() != 9 and grid_unique.shape != grid_section.shape:\n",
        "        errors.append(f'Section {idx} error')\n",
        "\n",
        "    if errors:\n",
        "      for i in errors:\n",
        "        print(i)\n",
        "    else:\n",
        "      return \"Sudoku passed\"\n",
        "\n",
        ""
      ],
      "metadata": {
        "id": "OvvpZRdyYOSP"
      },
      "execution_count": 380,
      "outputs": []
    },
    {
      "cell_type": "code",
      "source": [
        "Check_sudoku.checking(grid)"
      ],
      "metadata": {
        "colab": {
          "base_uri": "https://localhost:8080/",
          "height": 35
        },
        "id": "SvNeciN1YyxP",
        "outputId": "4500cb03-63c5-4f82-a09d-dc73373229f3"
      },
      "execution_count": 381,
      "outputs": [
        {
          "output_type": "execute_result",
          "data": {
            "text/plain": [
              "'Sudoku passed'"
            ],
            "application/vnd.google.colaboratory.intrinsic+json": {
              "type": "string"
            }
          },
          "metadata": {},
          "execution_count": 381
        }
      ]
    },
    {
      "cell_type": "code",
      "source": [
        "def is_valid_move(grid, row, col, num):\n",
        "    if num in grid[row][col]:\n",
        "        return False\n",
        "\n",
        "    if num in grid[row]:\n",
        "        return False\n",
        "\n",
        "    start_row, start_col = 3 * (row // 3), 3 * (col // 3)\n",
        "    if num in grid[start_row:start_row + 3, start_col:start_col + 3]:\n",
        "        return False\n",
        "\n",
        "    return True\n",
        "\n",
        "\n",
        "def solve_sudoku(grid):\n",
        "  for idx, i in enumerate(grid):\n",
        "    for id, j in enumerate(i):\n",
        "      if j == 0:\n",
        "        for k in range(1, 10):\n",
        "          if is_valid_move(grid, idx, id, k):\n",
        "            grid[idx][id] = k\n",
        "            if solve_sudoku(grid):\n",
        "              return True\n",
        "            grid[idx][id] = 0\n",
        "        return False\n",
        "  return True\n",
        "\n",
        "solve_sudoku(grid)\n",
        "\n",
        "\n",
        "def print_grid(grid):\n",
        "  for idx, row in enumerate(grid):\n",
        "    if idx == 3 or idx == 6:\n",
        "      print(21*'-')\n",
        "    for idx, num in enumerate(row):\n",
        "      if idx == 2 or idx == 5:\n",
        "        print(num, end=' | ')\n",
        "      elif idx == 8:\n",
        "        print(num, end='\\n')\n",
        "      else:\n",
        "        print(num, end=\" \")\n",
        "\n",
        "\n",
        "\n",
        "print_grid(grid)"
      ],
      "metadata": {
        "colab": {
          "base_uri": "https://localhost:8080/"
        },
        "id": "g14z-RSFilqM",
        "outputId": "84760bde-4441-42cd-ede8-c5e1b8b9d652"
      },
      "execution_count": 379,
      "outputs": [
        {
          "output_type": "stream",
          "name": "stdout",
          "text": [
            "1 2 3 | 4 5 6 | 7 8 9\n",
            "8 4 5 | 1 7 9 | 2 3 6\n",
            "9 6 7 | 2 3 8 | 1 4 5\n",
            "---------------------\n",
            "4 1 2 | 3 6 5 | 8 9 7\n",
            "5 3 8 | 7 9 1 | 4 6 2\n",
            "6 7 9 | 8 2 4 | 3 5 1\n",
            "---------------------\n",
            "7 5 1 | 6 4 3 | 9 2 8\n",
            "2 9 4 | 5 8 7 | 6 1 3\n",
            "3 8 6 | 9 1 2 | 5 7 4\n"
          ]
        }
      ]
    }
  ]
}