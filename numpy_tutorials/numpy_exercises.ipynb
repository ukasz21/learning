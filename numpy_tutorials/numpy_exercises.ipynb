{
  "nbformat": 4,
  "nbformat_minor": 0,
  "metadata": {
    "colab": {
      "provenance": [],
      "authorship_tag": "ABX9TyM7nOh5ZLvNqpr+V51bJrwA",
      "include_colab_link": true
    },
    "kernelspec": {
      "name": "python3",
      "display_name": "Python 3"
    },
    "language_info": {
      "name": "python"
    }
  },
  "cells": [
    {
      "cell_type": "markdown",
      "metadata": {
        "id": "view-in-github",
        "colab_type": "text"
      },
      "source": [
        "<a href=\"https://colab.research.google.com/github/ukasz21/learning/blob/main/numpy_tutorials/numpy_exercises.ipynb\" target=\"_parent\"><img src=\"https://colab.research.google.com/assets/colab-badge.svg\" alt=\"Open In Colab\"/></a>"
      ]
    },
    {
      "cell_type": "code",
      "source": [
        "#https://www.w3resource.com/python-exercises/numpy/basic/index.php"
      ],
      "metadata": {
        "id": "j2k77d6VVEpZ"
      },
      "execution_count": null,
      "outputs": []
    },
    {
      "cell_type": "markdown",
      "source": [
        "basic numpy functions:\n",
        "- np.shape() - returns a shape of an array\n",
        "- np.all() - Test whether **all** array elements along a given axis evaluate to True.\n",
        "- np.any() - Test whether **any** array element along a given axis evaluates to True.\n",
        "- np."
      ],
      "metadata": {
        "id": "-5MkBU_NUVw_"
      }
    },
    {
      "cell_type": "code",
      "execution_count": 1,
      "metadata": {
        "id": "nCUi2-moPiCg"
      },
      "outputs": [],
      "source": [
        "import numpy as np"
      ]
    },
    {
      "cell_type": "code",
      "source": [
        "print(np.__version__)\n",
        "print(np.show_config())"
      ],
      "metadata": {
        "id": "0fcWIJuiPxIW"
      },
      "execution_count": null,
      "outputs": []
    },
    {
      "cell_type": "code",
      "source": [
        "print(help(np.any))"
      ],
      "metadata": {
        "id": "GTpbuGjDR5YS"
      },
      "execution_count": null,
      "outputs": []
    },
    {
      "cell_type": "code",
      "source": [
        "array1 = np.array([1,2,3,4,5])\n",
        "print(np.all(array1))\n",
        "\n",
        "array2 = np.array([0,1,2,3,4,5])\n",
        "print(np.all(array2))"
      ],
      "metadata": {
        "colab": {
          "base_uri": "https://localhost:8080/"
        },
        "id": "-AGvJjyNVRq-",
        "outputId": "7a80cc6c-ffc3-42c4-dae6-ce83a785c626"
      },
      "execution_count": null,
      "outputs": [
        {
          "output_type": "stream",
          "name": "stdout",
          "text": [
            "True\n",
            "False\n"
          ]
        }
      ]
    },
    {
      "cell_type": "code",
      "source": [
        "array1 = np.array([0,0,0,0])\n",
        "print(np.any(array1))\n",
        "\n",
        "array2 = np.array([0,0,1])\n",
        "print(np.any(array2))"
      ],
      "metadata": {
        "colab": {
          "base_uri": "https://localhost:8080/"
        },
        "id": "v3wk_9HlV2T9",
        "outputId": "19ff9f18-a931-461c-cf35-6f63122131dd"
      },
      "execution_count": null,
      "outputs": [
        {
          "output_type": "stream",
          "name": "stdout",
          "text": [
            "False\n",
            "True\n"
          ]
        }
      ]
    },
    {
      "cell_type": "code",
      "source": [
        "array1 = np.array([0,1,2, np.nan, True, np.inf])\n",
        "print(np.isfinite(array1))\n"
      ],
      "metadata": {
        "colab": {
          "base_uri": "https://localhost:8080/"
        },
        "id": "BlXa9Z4hWGkm",
        "outputId": "d5d988cf-1421-4486-a056-ea28c65dba22"
      },
      "execution_count": null,
      "outputs": [
        {
          "output_type": "stream",
          "name": "stdout",
          "text": [
            "[ True  True  True False  True False]\n"
          ]
        }
      ]
    },
    {
      "cell_type": "code",
      "source": [
        "array1 = np.array([np.inf, 0])\n",
        "\n",
        "print(np.isinf(array1))"
      ],
      "metadata": {
        "colab": {
          "base_uri": "https://localhost:8080/"
        },
        "id": "mTpzFeZpYrPu",
        "outputId": "7ef40681-6bd3-4533-997b-a01238b1daae"
      },
      "execution_count": null,
      "outputs": [
        {
          "output_type": "stream",
          "name": "stdout",
          "text": [
            "[ True False]\n"
          ]
        }
      ]
    },
    {
      "cell_type": "code",
      "source": [
        "array1 = np.array([np.nan, 4, 5])\n",
        "\n",
        "print(np.isnan(array1))"
      ],
      "metadata": {
        "colab": {
          "base_uri": "https://localhost:8080/"
        },
        "id": "NXRkJzfPY8aP",
        "outputId": "9965b55e-7a24-4846-9590-6ccda784bcae"
      },
      "execution_count": null,
      "outputs": [
        {
          "output_type": "stream",
          "name": "stdout",
          "text": [
            "[ True False False]\n"
          ]
        }
      ]
    },
    {
      "cell_type": "code",
      "source": [
        "array1 = np.array([1,2,3,4,5, 1+1j])\n",
        "num = 5\n",
        "print(np.iscomplex(array1))\n",
        "print(np.isreal(array1))\n",
        "print(np.isscalar(array1))\n",
        "print(np.isscalar(num))"
      ],
      "metadata": {
        "colab": {
          "base_uri": "https://localhost:8080/"
        },
        "id": "WltFOQXmZiOZ",
        "outputId": "9c6f3238-332f-4bc3-d9eb-42d4c1c61a08"
      },
      "execution_count": null,
      "outputs": [
        {
          "output_type": "stream",
          "name": "stdout",
          "text": [
            "[False False False False False  True]\n",
            "[ True  True  True  True  True False]\n",
            "False\n",
            "True\n"
          ]
        }
      ]
    },
    {
      "cell_type": "code",
      "source": [
        "print(np.allclose([2.0001, 0.0001], [2.0001, 0.0001]))"
      ],
      "metadata": {
        "colab": {
          "base_uri": "https://localhost:8080/"
        },
        "id": "HWmTKDssaKSX",
        "outputId": "340c2201-401b-4d02-b2ff-05596413ef2e"
      },
      "execution_count": null,
      "outputs": [
        {
          "output_type": "stream",
          "name": "stdout",
          "text": [
            "True\n"
          ]
        }
      ]
    },
    {
      "cell_type": "code",
      "source": [
        "array1 = np.array([-1, 1,2,3,4])\n",
        "array2 = np.array([0,1,2,3,5])\n",
        "\n",
        "print(np.greater(array2, array1))\n",
        "print(np.greater_equal(array2, array1))\n",
        "print(np.less(array2, array1))\n",
        "print(np.less_equal(array2, array1))"
      ],
      "metadata": {
        "colab": {
          "base_uri": "https://localhost:8080/"
        },
        "id": "jmylGfCfcYKy",
        "outputId": "7e699ce8-d256-488b-ee9b-1fdfc50f9bd6"
      },
      "execution_count": null,
      "outputs": [
        {
          "output_type": "stream",
          "name": "stdout",
          "text": [
            "[ True False False False  True]\n",
            "[ True  True  True  True  True]\n",
            "[False False False False False]\n",
            "[False  True  True  True False]\n"
          ]
        }
      ]
    },
    {
      "cell_type": "code",
      "source": [
        "x = np.array([72, 79, 85, 90, 150, -135, 120, -10, 60, 100])\n",
        "y = np.array([72, 79, 85, 90, 150, -135, 120, -10, 60, 100.00001])\n",
        "\n",
        "print(np.equal(x, y))\n",
        "print(np.allclose(x,y, 0.01))\n"
      ],
      "metadata": {
        "colab": {
          "base_uri": "https://localhost:8080/"
        },
        "id": "bIB46tkBc_SO",
        "outputId": "9af22707-3dda-46ea-cf18-81d503ace882"
      },
      "execution_count": null,
      "outputs": [
        {
          "output_type": "stream",
          "name": "stdout",
          "text": [
            "[ True  True  True  True  True  True  True  True  True False]\n",
            "True\n"
          ]
        }
      ]
    },
    {
      "cell_type": "code",
      "source": [
        "x = np.array([1, 7, 13, 105])\n",
        "print((x.size * x.itemsize), 'bytes')"
      ],
      "metadata": {
        "colab": {
          "base_uri": "https://localhost:8080/"
        },
        "id": "PWfBEiPNdk_V",
        "outputId": "d7014526-d7ea-4f67-e661-e66065c71708"
      },
      "execution_count": null,
      "outputs": [
        {
          "output_type": "stream",
          "name": "stdout",
          "text": [
            "32 bytes\n"
          ]
        }
      ]
    },
    {
      "cell_type": "code",
      "source": [
        "np.zeros(10)\n",
        "np.ones(10)\n",
        "np.full(10, 5)"
      ],
      "metadata": {
        "colab": {
          "base_uri": "https://localhost:8080/"
        },
        "id": "k20ZhkzneXqQ",
        "outputId": "6c43a005-368f-4f8e-8568-5917978334d6"
      },
      "execution_count": null,
      "outputs": [
        {
          "output_type": "execute_result",
          "data": {
            "text/plain": [
              "array([5, 5, 5, 5, 5, 5, 5, 5, 5, 5])"
            ]
          },
          "metadata": {},
          "execution_count": 102
        }
      ]
    },
    {
      "cell_type": "code",
      "source": [
        "np.arange(30, 71)"
      ],
      "metadata": {
        "colab": {
          "base_uri": "https://localhost:8080/"
        },
        "id": "KKpEdibaey0V",
        "outputId": "657ac80c-080e-407e-c3ad-570cb15a4ca2"
      },
      "execution_count": null,
      "outputs": [
        {
          "output_type": "execute_result",
          "data": {
            "text/plain": [
              "array([30, 31, 32, 33, 34, 35, 36, 37, 38, 39, 40, 41, 42, 43, 44, 45, 46,\n",
              "       47, 48, 49, 50, 51, 52, 53, 54, 55, 56, 57, 58, 59, 60, 61, 62, 63,\n",
              "       64, 65, 66, 67, 68, 69, 70])"
            ]
          },
          "metadata": {},
          "execution_count": 109
        }
      ]
    },
    {
      "cell_type": "code",
      "source": [
        "np.arange(30, 71, 2)"
      ],
      "metadata": {
        "colab": {
          "base_uri": "https://localhost:8080/"
        },
        "id": "NpxxR2QmfFf-",
        "outputId": "654d00e9-3755-4234-9ee1-f139acc42c84"
      },
      "execution_count": null,
      "outputs": [
        {
          "output_type": "execute_result",
          "data": {
            "text/plain": [
              "array([30, 32, 34, 36, 38, 40, 42, 44, 46, 48, 50, 52, 54, 56, 58, 60, 62,\n",
              "       64, 66, 68, 70])"
            ]
          },
          "metadata": {},
          "execution_count": 110
        }
      ]
    },
    {
      "cell_type": "code",
      "source": [
        "np.identity(3)"
      ],
      "metadata": {
        "colab": {
          "base_uri": "https://localhost:8080/"
        },
        "id": "Gh08yKDKfZf0",
        "outputId": "8c0623a1-258d-4924-924e-105bc402a657"
      },
      "execution_count": null,
      "outputs": [
        {
          "output_type": "execute_result",
          "data": {
            "text/plain": [
              "array([[1., 0., 0.],\n",
              "       [0., 1., 0.],\n",
              "       [0., 0., 1.]])"
            ]
          },
          "metadata": {},
          "execution_count": 111
        }
      ]
    },
    {
      "cell_type": "code",
      "source": [
        "np.random.normal(0,1)"
      ],
      "metadata": {
        "colab": {
          "base_uri": "https://localhost:8080/"
        },
        "id": "0TYy1LV4fenZ",
        "outputId": "deda9021-2fd2-46c8-d3ac-bd7fd55ba984"
      },
      "execution_count": null,
      "outputs": [
        {
          "output_type": "execute_result",
          "data": {
            "text/plain": [
              "[0.22190661085121757,\n",
              " 0.22190661085121757,\n",
              " 0.22190661085121757,\n",
              " 0.22190661085121757,\n",
              " 0.22190661085121757,\n",
              " 0.22190661085121757,\n",
              " 0.22190661085121757,\n",
              " 0.22190661085121757,\n",
              " 0.22190661085121757,\n",
              " 0.22190661085121757]"
            ]
          },
          "metadata": {},
          "execution_count": 116
        }
      ]
    },
    {
      "cell_type": "code",
      "source": [
        "np.random.normal(0,1,15)"
      ],
      "metadata": {
        "colab": {
          "base_uri": "https://localhost:8080/"
        },
        "id": "uTdFWkAJfnfU",
        "outputId": "32105c80-5e14-4f36-fd6e-4b7ee076e552"
      },
      "execution_count": null,
      "outputs": [
        {
          "output_type": "execute_result",
          "data": {
            "text/plain": [
              "array([-0.52132338, -1.08642903, -1.03437034, -0.94261268,  0.1011446 ,\n",
              "        0.75752478, -0.06603319,  0.05942514,  1.26974815,  0.01917035,\n",
              "        0.24908204, -0.0276048 ,  0.37039235, -0.70639423, -0.10795243])"
            ]
          },
          "metadata": {},
          "execution_count": 117
        }
      ]
    },
    {
      "cell_type": "code",
      "source": [
        "x = np.arange(15, 56)\n",
        "print(x[1:-1])"
      ],
      "metadata": {
        "colab": {
          "base_uri": "https://localhost:8080/"
        },
        "id": "PaU09WIvg7yz",
        "outputId": "65c42d31-13de-4d1c-bbb0-efa6ee0a5552"
      },
      "execution_count": null,
      "outputs": [
        {
          "output_type": "stream",
          "name": "stdout",
          "text": [
            "[16 17 18 19 20 21 22 23 24 25 26 27 28 29 30 31 32 33 34 35 36 37 38 39\n",
            " 40 41 42 43 44 45 46 47 48 49 50 51 52 53 54]\n"
          ]
        }
      ]
    },
    {
      "cell_type": "code",
      "source": [
        "x = np.arange(1, 13).reshape((3, 4))\n",
        "\n",
        "\n",
        "for i in list(x):\n",
        "  for j in i:\n",
        "    print(j, end=\" \")\n",
        "print()\n",
        "\n",
        "for i in np.nditer(x):\n",
        "  print(i, end=' ')"
      ],
      "metadata": {
        "colab": {
          "base_uri": "https://localhost:8080/"
        },
        "id": "st2jY1kyhHs8",
        "outputId": "91915ba2-a4b1-4b18-dcda-5bc8b67acbca"
      },
      "execution_count": null,
      "outputs": [
        {
          "output_type": "stream",
          "name": "stdout",
          "text": [
            "1 2 3 4 5 6 7 8 9 10 11 12 \n",
            "1 2 3 4 5 6 7 8 9 10 11 12 "
          ]
        }
      ]
    },
    {
      "cell_type": "code",
      "source": [
        "a = np.linspace(5, 50, 10)\n",
        "a"
      ],
      "metadata": {
        "colab": {
          "base_uri": "https://localhost:8080/"
        },
        "id": "X7xgKme0hoN8",
        "outputId": "48f615ec-623f-44a4-db91-2ecbcdff1a40"
      },
      "execution_count": null,
      "outputs": [
        {
          "output_type": "execute_result",
          "data": {
            "text/plain": [
              "array([ 5., 10., 15., 20., 25., 30., 35., 40., 45., 50.])"
            ]
          },
          "metadata": {},
          "execution_count": 156
        }
      ]
    },
    {
      "cell_type": "code",
      "source": [
        "b = np.arange(21)\n",
        "b[9:16] *= -1\n",
        "print(b)"
      ],
      "metadata": {
        "colab": {
          "base_uri": "https://localhost:8080/"
        },
        "id": "vbPTzWgwkGxK",
        "outputId": "21fbd1f4-7c55-4b47-b3cc-ae06240c96b5"
      },
      "execution_count": null,
      "outputs": [
        {
          "output_type": "stream",
          "name": "stdout",
          "text": [
            "[  0   1   2   3   4   5   6   7   8  -9 -10 -11 -12 -13 -14 -15  16  17\n",
            "  18  19  20]\n"
          ]
        }
      ]
    },
    {
      "cell_type": "code",
      "source": [
        "c = np.random.randint(0, 11, 5)\n",
        "c"
      ],
      "metadata": {
        "colab": {
          "base_uri": "https://localhost:8080/"
        },
        "id": "CLuAMelalSu2",
        "outputId": "d3f6b29f-4cb9-4007-eae2-a4db92884463"
      },
      "execution_count": null,
      "outputs": [
        {
          "output_type": "execute_result",
          "data": {
            "text/plain": [
              "array([ 6, 10,  4,  5,  5])"
            ]
          },
          "metadata": {},
          "execution_count": 171
        }
      ]
    },
    {
      "cell_type": "code",
      "source": [
        "a = np.array([1,2,3,4])\n",
        "b = np.array([5,4,3,1])\n",
        "\n",
        "a*b"
      ],
      "metadata": {
        "colab": {
          "base_uri": "https://localhost:8080/"
        },
        "id": "8y2nHybjmYnx",
        "outputId": "8401c1c9-c751-412e-9fef-a7ecd523c5db"
      },
      "execution_count": null,
      "outputs": [
        {
          "output_type": "execute_result",
          "data": {
            "text/plain": [
              "array([5, 8, 9, 4])"
            ]
          },
          "metadata": {},
          "execution_count": 172
        }
      ]
    },
    {
      "cell_type": "code",
      "source": [
        "c = np.arange(10, 22).reshape((3,4))\n",
        "c"
      ],
      "metadata": {
        "colab": {
          "base_uri": "https://localhost:8080/"
        },
        "id": "K2ZTF7zemw7_",
        "outputId": "3f1b2114-570a-451f-fb19-19d541d03c0d"
      },
      "execution_count": null,
      "outputs": [
        {
          "output_type": "execute_result",
          "data": {
            "text/plain": [
              "array([[10, 11, 12, 13],\n",
              "       [14, 15, 16, 17],\n",
              "       [18, 19, 20, 21]])"
            ]
          },
          "metadata": {},
          "execution_count": 175
        }
      ]
    },
    {
      "cell_type": "code",
      "source": [
        "a = np.array([[1,2,3,4], [5,6,7,8]])\n",
        "np.shape(a)"
      ],
      "metadata": {
        "colab": {
          "base_uri": "https://localhost:8080/"
        },
        "id": "yHTvP7W0nF6C",
        "outputId": "61f68994-924a-404e-b430-64c427668b17"
      },
      "execution_count": null,
      "outputs": [
        {
          "output_type": "execute_result",
          "data": {
            "text/plain": [
              "(2, 4)"
            ]
          },
          "metadata": {},
          "execution_count": 178
        }
      ]
    },
    {
      "cell_type": "code",
      "source": [
        "np.eye(3)"
      ],
      "metadata": {
        "colab": {
          "base_uri": "https://localhost:8080/"
        },
        "id": "BMCZjsYnnU7q",
        "outputId": "f93f1a67-e2f3-49cc-c0b8-505d2d937b1a"
      },
      "execution_count": null,
      "outputs": [
        {
          "output_type": "execute_result",
          "data": {
            "text/plain": [
              "array([[1., 0., 0.],\n",
              "       [0., 1., 0.],\n",
              "       [0., 0., 1.]])"
            ]
          },
          "metadata": {},
          "execution_count": 184
        }
      ]
    },
    {
      "cell_type": "code",
      "source": [
        "b = np.ones((10,10))\n",
        "b[1:-1, 1:-1] = 0\n",
        "b"
      ],
      "metadata": {
        "colab": {
          "base_uri": "https://localhost:8080/"
        },
        "id": "K9wLMhgznkHT",
        "outputId": "474f5996-28b3-4854-93ad-ac2b3e78c223"
      },
      "execution_count": null,
      "outputs": [
        {
          "output_type": "execute_result",
          "data": {
            "text/plain": [
              "array([[1., 1., 1., 1., 1., 1., 1., 1., 1., 1.],\n",
              "       [1., 0., 0., 0., 0., 0., 0., 0., 0., 1.],\n",
              "       [1., 0., 0., 0., 0., 0., 0., 0., 0., 1.],\n",
              "       [1., 0., 0., 0., 0., 0., 0., 0., 0., 1.],\n",
              "       [1., 0., 0., 0., 0., 0., 0., 0., 0., 1.],\n",
              "       [1., 0., 0., 0., 0., 0., 0., 0., 0., 1.],\n",
              "       [1., 0., 0., 0., 0., 0., 0., 0., 0., 1.],\n",
              "       [1., 0., 0., 0., 0., 0., 0., 0., 0., 1.],\n",
              "       [1., 0., 0., 0., 0., 0., 0., 0., 0., 1.],\n",
              "       [1., 1., 1., 1., 1., 1., 1., 1., 1., 1.]])"
            ]
          },
          "metadata": {},
          "execution_count": 195
        }
      ]
    },
    {
      "cell_type": "code",
      "source": [
        "c = np.diag([1, 2, 3, 4, 5])\n",
        "c"
      ],
      "metadata": {
        "colab": {
          "base_uri": "https://localhost:8080/"
        },
        "id": "8deA94vtnrk_",
        "outputId": "9652f66e-e952-4444-d7d7-b66ea27c89fe"
      },
      "execution_count": null,
      "outputs": [
        {
          "output_type": "execute_result",
          "data": {
            "text/plain": [
              "array([[1, 0, 0, 0, 0],\n",
              "       [0, 2, 0, 0, 0],\n",
              "       [0, 0, 3, 0, 0],\n",
              "       [0, 0, 0, 4, 0],\n",
              "       [0, 0, 0, 0, 5]])"
            ]
          },
          "metadata": {},
          "execution_count": 201
        }
      ]
    },
    {
      "cell_type": "code",
      "source": [
        "d = np.zeros((4, 4))\n",
        "d[::2, 1::2] = 1    #first index is the row, second is the col\n",
        "d[1::2, ::2] = 1\n",
        "d"
      ],
      "metadata": {
        "colab": {
          "base_uri": "https://localhost:8080/"
        },
        "id": "3tHSusSIpd4A",
        "outputId": "9b03345b-ea44-4812-df76-ed417793ae97"
      },
      "execution_count": null,
      "outputs": [
        {
          "output_type": "execute_result",
          "data": {
            "text/plain": [
              "array([[0., 1., 0., 1.],\n",
              "       [1., 0., 1., 0.],\n",
              "       [0., 1., 0., 1.],\n",
              "       [1., 0., 1., 0.]])"
            ]
          },
          "metadata": {},
          "execution_count": 226
        }
      ]
    },
    {
      "cell_type": "code",
      "source": [
        "a = np.random.random((3,3,3))\n",
        "print(a)\n"
      ],
      "metadata": {
        "id": "zQCnBeS8p6Sg",
        "colab": {
          "base_uri": "https://localhost:8080/"
        },
        "outputId": "e1b3fac2-ef27-4bad-c952-a931157bdb91"
      },
      "execution_count": 6,
      "outputs": [
        {
          "output_type": "stream",
          "name": "stdout",
          "text": [
            "[[[0.58182905 0.98578201 0.99528292]\n",
            "  [0.04875504 0.98452445 0.01757195]\n",
            "  [0.14814224 0.45870592 0.14575967]]\n",
            "\n",
            " [[0.87070204 0.24714321 0.98685323]\n",
            "  [0.30574376 0.03468603 0.02230648]\n",
            "  [0.49848997 0.55521739 0.36236722]]\n",
            "\n",
            " [[0.10576813 0.71782204 0.51821459]\n",
            "  [0.70556477 0.14598007 0.30507396]\n",
            "  [0.45282047 0.92874461 0.66550526]]]\n"
          ]
        }
      ]
    },
    {
      "cell_type": "code",
      "source": [
        "a = np.array([[1,2,3,4],[5,6,7,8]])\n",
        "\n",
        "print(np.sum(a)) #total sum\n",
        "print(np.sum(a, axis=0)) # column sum\n",
        "print(np.sum(a, axis=1)) # row sum"
      ],
      "metadata": {
        "colab": {
          "base_uri": "https://localhost:8080/"
        },
        "id": "F3GfXhodJvPb",
        "outputId": "fac9ed20-8050-44ac-fcd2-d95ffb279679"
      },
      "execution_count": 13,
      "outputs": [
        {
          "output_type": "stream",
          "name": "stdout",
          "text": [
            "36\n",
            "[ 6  8 10 12]\n",
            "[10 26]\n"
          ]
        }
      ]
    },
    {
      "cell_type": "code",
      "source": [
        "a = np.array([1,2])\n",
        "b = np.array([3,4])\n",
        "\n",
        "np.dot(a,b)"
      ],
      "metadata": {
        "colab": {
          "base_uri": "https://localhost:8080/"
        },
        "id": "MwNVgrE5KhIa",
        "outputId": "b7f44fc3-b765-42f0-f6c6-202603b9dea9"
      },
      "execution_count": 15,
      "outputs": [
        {
          "output_type": "execute_result",
          "data": {
            "text/plain": [
              "11"
            ]
          },
          "metadata": {},
          "execution_count": 15
        }
      ]
    },
    {
      "cell_type": "code",
      "source": [
        "a = np.array([1,20])\n",
        "b = np.ones((2, 2))\n",
        "\n",
        "\n",
        "for i in range(2):\n",
        "  b[i, :] += a\n",
        "\n",
        "print(b)"
      ],
      "metadata": {
        "colab": {
          "base_uri": "https://localhost:8080/"
        },
        "id": "vuzYgfU1LcGz",
        "outputId": "abc252d6-8b46-4d90-9724-1e30f72685c9"
      },
      "execution_count": 39,
      "outputs": [
        {
          "output_type": "stream",
          "name": "stdout",
          "text": [
            "[[ 2. 21.]\n",
            " [ 2. 21.]]\n"
          ]
        }
      ]
    },
    {
      "cell_type": "code",
      "source": [
        "import os\n",
        "a = np.array([1,2,3,4,5])\n",
        "\n",
        "np.save('binary_file.npy', a)\n",
        "if os.path.exists('binary_file.npy'):\n",
        "  new = np.load('binary_file.npy')\n",
        "  print(np.array_equal(a, new))"
      ],
      "metadata": {
        "colab": {
          "base_uri": "https://localhost:8080/"
        },
        "id": "WAosUhqrLoD_",
        "outputId": "b2eefde4-031b-4ddc-8478-879aaf49c119"
      },
      "execution_count": 47,
      "outputs": [
        {
          "output_type": "stream",
          "name": "stdout",
          "text": [
            "True\n"
          ]
        }
      ]
    },
    {
      "cell_type": "code",
      "source": [
        "a = np.array([1,2,3,4,5])\n",
        "b = np.array([2,3,4,5,6])\n",
        "print(a)\n",
        "print(b)\n",
        "\n",
        "np.savez('file.npz', a=a, b=b)\n",
        "\n",
        "with np.load('file.npz') as data:\n",
        "  a2 = data['a']\n",
        "  b2 = data['b']\n",
        "\n",
        "  print(a2)\n",
        "  print(b2)"
      ],
      "metadata": {
        "colab": {
          "base_uri": "https://localhost:8080/"
        },
        "id": "UhzPwcU3NPsD",
        "outputId": "47de4d54-1d95-406d-eafe-76cfb1b4656b"
      },
      "execution_count": 49,
      "outputs": [
        {
          "output_type": "stream",
          "name": "stdout",
          "text": [
            "[1 2 3 4 5]\n",
            "[2 3 4 5 6]\n",
            "[1 2 3 4 5]\n",
            "[2 3 4 5 6]\n"
          ]
        }
      ]
    },
    {
      "cell_type": "code",
      "source": [
        "a = np.arange(1, 17).reshape(4,4)\n",
        "\n",
        "np.savetxt('text.txt', a)\n",
        "print(np.loadtxt('text.txt'))"
      ],
      "metadata": {
        "colab": {
          "base_uri": "https://localhost:8080/"
        },
        "id": "LmAM-0TRO8tj",
        "outputId": "66e8dbb6-5049-42c7-e0c7-3199ae85d625"
      },
      "execution_count": 55,
      "outputs": [
        {
          "output_type": "stream",
          "name": "stdout",
          "text": [
            "[[ 1.  2.  3.  4.]\n",
            " [ 5.  6.  7.  8.]\n",
            " [ 9. 10. 11. 12.]\n",
            " [13. 14. 15. 16.]]\n"
          ]
        }
      ]
    },
    {
      "cell_type": "code",
      "source": [
        "a = np.ones((5,5))\n",
        "byte = a.tobytes()\n",
        "\n",
        "load = np.frombuffer(byte, dtype=a.dtype).reshape(a.shape)\n",
        "np.array_equal(a, load)"
      ],
      "metadata": {
        "colab": {
          "base_uri": "https://localhost:8080/"
        },
        "id": "--EEfLpxPMtT",
        "outputId": "5794d86a-4e28-4a81-f38e-0f802f8b03ce"
      },
      "execution_count": 71,
      "outputs": [
        {
          "output_type": "execute_result",
          "data": {
            "text/plain": [
              "True"
            ]
          },
          "metadata": {},
          "execution_count": 71
        }
      ]
    },
    {
      "cell_type": "code",
      "source": [
        "list1 = [1,2,3,4,5]\n",
        "\n",
        "array = np.array(list1)\n",
        "print(array)\n",
        "np.array_equal(list1, array)"
      ],
      "metadata": {
        "colab": {
          "base_uri": "https://localhost:8080/"
        },
        "id": "YFMea6SMPvlp",
        "outputId": "c4c5aba3-c24f-4b85-91cd-3625955ab02a"
      },
      "execution_count": 76,
      "outputs": [
        {
          "output_type": "stream",
          "name": "stdout",
          "text": [
            "[1 2 3 4 5]\n"
          ]
        },
        {
          "output_type": "execute_result",
          "data": {
            "text/plain": [
              "True"
            ]
          },
          "metadata": {},
          "execution_count": 76
        }
      ]
    },
    {
      "cell_type": "code",
      "source": [
        "import matplotlib.pyplot as plt\n",
        "x = np.arange(0, 3 * np.pi, 0.2)\n",
        "y = np.sin(x)\n",
        "\n",
        "plt.plot(x,y)\n",
        "plt.show()"
      ],
      "metadata": {
        "colab": {
          "base_uri": "https://localhost:8080/",
          "height": 430
        },
        "id": "nz9U765XbwFX",
        "outputId": "30016f81-e78f-4763-a22f-d6908a30fbd5"
      },
      "execution_count": 90,
      "outputs": [
        {
          "output_type": "display_data",
          "data": {
            "text/plain": [
              "<Figure size 640x480 with 1 Axes>"
            ],
            "image/png": "[encoded data removed]"
          },
          "metadata": {}
        }
      ]
    },
    {
      "cell_type": "code",
      "source": [
        "a = np.float64(0)\n",
        "print(type(a))\n",
        "\n",
        "a.item()\n",
        "print(type(x))"
      ],
      "metadata": {
        "colab": {
          "base_uri": "https://localhost:8080/"
        },
        "id": "GYZ0d9JvbYJr",
        "outputId": "d408884f-a897-4722-a7a5-45744b3761df"
      },
      "execution_count": 93,
      "outputs": [
        {
          "output_type": "stream",
          "name": "stdout",
          "text": [
            "<class 'numpy.float64'>\n",
            "<class 'numpy.ndarray'>\n"
          ]
        }
      ]
    },
    {
      "cell_type": "code",
      "source": [
        "a = np.array([[3,4,5,6], [np.inf, np.nan, 4,5]])\n",
        "np.isnan(a)\n"
      ],
      "metadata": {
        "colab": {
          "base_uri": "https://localhost:8080/"
        },
        "id": "n_9ymmtVdE2I",
        "outputId": "6f77f1e1-e2b8-4a79-b707-5e7870c36947"
      },
      "execution_count": 99,
      "outputs": [
        {
          "output_type": "execute_result",
          "data": {
            "text/plain": [
              "array([[False, False, False, False],\n",
              "       [False,  True, False, False]])"
            ]
          },
          "metadata": {},
          "execution_count": 99
        }
      ]
    },
    {
      "cell_type": "code",
      "source": [
        "a = np.arange(0, 10)\n",
        "b = np.arange(10, 100)\n",
        "c = np.arange(100, 1000)\n"
      ],
      "metadata": {
        "id": "_Jg_efhqdeSR"
      },
      "execution_count": 106,
      "outputs": []
    },
    {
      "cell_type": "code",
      "source": [
        "a = np.arange(0, 50).reshape(10, 5)\n",
        "b = np.arange(0, 50).reshape(-1, 5) # -1  automatically reshapes the array\n",
        "c = np.arange(0, 50).reshape(10, -1)\n",
        "c"
      ],
      "metadata": {
        "colab": {
          "base_uri": "https://localhost:8080/"
        },
        "id": "bml2yL0oeTD7",
        "outputId": "a3e40128-a1d5-4b0d-d814-c8a3f6d8a5d4"
      },
      "execution_count": 108,
      "outputs": [
        {
          "output_type": "execute_result",
          "data": {
            "text/plain": [
              "array([[ 0,  1,  2,  3,  4],\n",
              "       [ 5,  6,  7,  8,  9],\n",
              "       [10, 11, 12, 13, 14],\n",
              "       [15, 16, 17, 18, 19],\n",
              "       [20, 21, 22, 23, 24],\n",
              "       [25, 26, 27, 28, 29],\n",
              "       [30, 31, 32, 33, 34],\n",
              "       [35, 36, 37, 38, 39],\n",
              "       [40, 41, 42, 43, 44],\n",
              "       [45, 46, 47, 48, 49]])"
            ]
          },
          "metadata": {},
          "execution_count": 108
        }
      ]
    },
    {
      "cell_type": "code",
      "source": [
        "np.random.seed(10)\n",
        "print(np.random.rand(20))\n"
      ],
      "metadata": {
        "colab": {
          "base_uri": "https://localhost:8080/"
        },
        "id": "ROUO2yvofG89",
        "outputId": "b976bf52-ba4b-4e26-e083-9c45f14a6e42"
      },
      "execution_count": 114,
      "outputs": [
        {
          "output_type": "stream",
          "name": "stdout",
          "text": [
            "[0.77132064 0.02075195 0.63364823 0.74880388 0.49850701 0.22479665\n",
            " 0.19806286 0.76053071 0.16911084 0.08833981 0.68535982 0.95339335\n",
            " 0.00394827 0.51219226 0.81262096 0.61252607 0.72175532 0.29187607\n",
            " 0.91777412 0.71457578]\n"
          ]
        }
      ]
    },
    {
      "cell_type": "code",
      "source": [],
      "metadata": {
        "id": "mqJtBTFaffAx"
      },
      "execution_count": null,
      "outputs": []
    }
  ]
}