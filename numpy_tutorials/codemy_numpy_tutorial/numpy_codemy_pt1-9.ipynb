{
  "nbformat": 4,
  "nbformat_minor": 0,
  "metadata": {
    "colab": {
      "provenance": [],
      "authorship_tag": "ABX9TyMg8clT9FMzoa7zxGFn8f/y",
      "include_colab_link": true
    },
    "kernelspec": {
      "name": "python3",
      "display_name": "Python 3"
    },
    "language_info": {
      "name": "python"
    }
  },
  "cells": [
    {
      "cell_type": "markdown",
      "metadata": {
        "id": "view-in-github",
        "colab_type": "text"
      },
      "source": [
        "<a href=\"https://colab.research.google.com/github/ukasz21/learning/blob/main/codemy_numpy_tutorial/numpy_codemy_pt1-9.ipynb\" target=\"_parent\"><img src=\"https://colab.research.google.com/assets/colab-badge.svg\" alt=\"Open In Colab\"/></a>"
      ]
    },
    {
      "cell_type": "markdown",
      "source": [
        "## **All important methods and functions:**\n",
        "- np.arange()* #two numbers form x to y*\n",
        "- np.shape\n",
        "- reshape()\n",
        "- np.zeros()\n",
        "- np.ones()\n",
        "- np.full()\n",
        "- np.sqrt() *#square root*\n",
        "- np.square()\n",
        "- np.absolute()\n",
        "- np.max()\n",
        "- np.min()\n",
        "- np.sign() *# positive of negative*\n",
        "- np.sin()\n",
        "- np.greater(x, y), greater_equal, less, less_equal, equal, logical_and\n",
        "logical_or, logical_xor, logical_not\n",
        "- np.nditer()  *# to iterate through all elements*\n",
        "- np.sort() * # numerical, alfabetical, bool*\n",
        "- np.where()  *# ex. np.where(i%2 == 0)*"
      ],
      "metadata": {
        "id": "GilrCJZuhvTK"
      }
    },
    {
      "cell_type": "markdown",
      "source": [
        "## **Normal list**\n",
        "\n",
        "\n",
        "\n"
      ],
      "metadata": {
        "id": "qN6dB4DfgGbe"
      }
    },
    {
      "cell_type": "code",
      "source": [
        "list1 = [1,2,3,4,5]\n",
        "list2 = ['John', 41, list1, True]"
      ],
      "metadata": {
        "id": "_E8lFJphgAM4"
      },
      "execution_count": 2,
      "outputs": []
    },
    {
      "cell_type": "markdown",
      "source": [
        "## **Numpy array**"
      ],
      "metadata": {
        "id": "75goBx3JgR0g"
      }
    },
    {
      "cell_type": "code",
      "source": [
        "import numpy as np"
      ],
      "metadata": {
        "id": "fRZhNqEKnozV"
      },
      "execution_count": 91,
      "outputs": []
    },
    {
      "cell_type": "markdown",
      "source": [
        "- create an array"
      ],
      "metadata": {
        "id": "o1dnT0WTkFhy"
      }
    },
    {
      "cell_type": "code",
      "source": [
        "np1 = np.array([0,1,2,3,4,5,6,7,8,9])\n",
        "print(np1)"
      ],
      "metadata": {
        "colab": {
          "base_uri": "https://localhost:8080/"
        },
        "id": "iud_MPZfgRZh",
        "outputId": "0f43a87c-de37-4bd9-cdab-037698044300"
      },
      "execution_count": 3,
      "outputs": [
        {
          "output_type": "stream",
          "name": "stdout",
          "text": [
            "[0 1 2 3 4 5 6 7 8 9]\n"
          ]
        }
      ]
    },
    {
      "cell_type": "markdown",
      "source": [
        "- shape"
      ],
      "metadata": {
        "id": "jE6JhlpjiTyQ"
      }
    },
    {
      "cell_type": "code",
      "source": [
        "np1.shape # returns the shape of array"
      ],
      "metadata": {
        "colab": {
          "base_uri": "https://localhost:8080/"
        },
        "id": "17d3SWlRgbUd",
        "outputId": "b3d678d5-be98-4564-c94c-d0a909bd7f61"
      },
      "execution_count": 5,
      "outputs": [
        {
          "output_type": "execute_result",
          "data": {
            "text/plain": [
              "(10,)"
            ]
          },
          "metadata": {},
          "execution_count": 5
        }
      ]
    },
    {
      "cell_type": "markdown",
      "source": [
        "- arange"
      ],
      "metadata": {
        "id": "INxMltHMiSRZ"
      }
    },
    {
      "cell_type": "code",
      "source": [
        "np2 = np.arange(10)\n",
        "\n",
        "np3 = np.arange(0, 101, 2) # arange func has (start, stop, step)\n",
        "print(np3)"
      ],
      "metadata": {
        "colab": {
          "base_uri": "https://localhost:8080/"
        },
        "id": "pet1-1MOgpFi",
        "outputId": "a0b2fd0a-c09e-4123-c309-0de67729c632"
      },
      "execution_count": 8,
      "outputs": [
        {
          "output_type": "stream",
          "name": "stdout",
          "text": [
            "[  0   2   4   6   8  10  12  14  16  18  20  22  24  26  28  30  32  34\n",
            "  36  38  40  42  44  46  48  50  52  54  56  58  60  62  64  66  68  70\n",
            "  72  74  76  78  80  82  84  86  88  90  92  94  96  98 100]\n"
          ]
        }
      ]
    },
    {
      "cell_type": "markdown",
      "source": [
        "- zeros"
      ],
      "metadata": {
        "id": "3pOtup6aicCF"
      }
    },
    {
      "cell_type": "code",
      "source": [
        "np4 = np.zeros(10) # one dimension\n",
        "\n",
        "np5 = np.zeros((2, 10)) # two dimensions - rows and columns\n",
        "print(np5)"
      ],
      "metadata": {
        "colab": {
          "base_uri": "https://localhost:8080/"
        },
        "id": "WGKsIXprg487",
        "outputId": "b374b0e9-36b4-4e63-e3f0-1213cf451718"
      },
      "execution_count": 13,
      "outputs": [
        {
          "output_type": "stream",
          "name": "stdout",
          "text": [
            "[[0. 0. 0. 0. 0. 0. 0. 0. 0. 0.]\n",
            " [0. 0. 0. 0. 0. 0. 0. 0. 0. 0.]]\n"
          ]
        }
      ]
    },
    {
      "cell_type": "markdown",
      "source": [
        "- full"
      ],
      "metadata": {
        "id": "zOU_UTTDlHn2"
      }
    },
    {
      "cell_type": "code",
      "source": [
        "np6 = np.full(10, 6) # number of items, item\n",
        "\n",
        "np7 = np.full((2, 10), 6) # 2x10 filled with 6\n",
        "print(np7)"
      ],
      "metadata": {
        "colab": {
          "base_uri": "https://localhost:8080/"
        },
        "id": "_qnZQUiolF13",
        "outputId": "0eb0c231-baf0-4d75-e618-6f07a583518e"
      },
      "execution_count": 16,
      "outputs": [
        {
          "output_type": "stream",
          "name": "stdout",
          "text": [
            "[[6 6 6 6 6 6 6 6 6 6]\n",
            " [6 6 6 6 6 6 6 6 6 6]]\n"
          ]
        }
      ]
    },
    {
      "cell_type": "markdown",
      "source": [
        "- convert python list to np"
      ],
      "metadata": {
        "id": "bdpaHMKmnL21"
      }
    },
    {
      "cell_type": "code",
      "source": [
        "list1 = [1,2,3,4,5]\n",
        "np8 = np.array(list1)\n",
        "print(type(np8))"
      ],
      "metadata": {
        "colab": {
          "base_uri": "https://localhost:8080/"
        },
        "id": "r_LXzdsylnuo",
        "outputId": "ba5bd37b-cc4c-4bbe-f280-2ba3dbb04496"
      },
      "execution_count": 18,
      "outputs": [
        {
          "output_type": "stream",
          "name": "stdout",
          "text": [
            "<class 'numpy.ndarray'>\n"
          ]
        }
      ]
    },
    {
      "cell_type": "markdown",
      "source": [
        "- access the elements"
      ],
      "metadata": {
        "id": "xvru51oBnX0N"
      }
    },
    {
      "cell_type": "code",
      "source": [
        "print(np8[0])"
      ],
      "metadata": {
        "colab": {
          "base_uri": "https://localhost:8080/"
        },
        "id": "CMU9yG-mnS6l",
        "outputId": "0a158ef7-df7b-4dae-e153-aa3077a600ab"
      },
      "execution_count": 19,
      "outputs": [
        {
          "output_type": "stream",
          "name": "stdout",
          "text": [
            "1\n"
          ]
        }
      ]
    },
    {
      "cell_type": "markdown",
      "source": [
        "**PART2**"
      ],
      "metadata": {
        "id": "iqFaCo-anjNI"
      }
    },
    {
      "cell_type": "markdown",
      "source": [
        "slicing 1D arrays"
      ],
      "metadata": {
        "id": "e0AbjRn3qWOo"
      }
    },
    {
      "cell_type": "code",
      "source": [
        "np1 = np.arange(1, 10)\n",
        "\n",
        "#how to return 2, 3, 4, 5?\n",
        "\n",
        "print(np1[1: 5])\n",
        "\n",
        "# how to return something till the end\n",
        "\n",
        "print(np1[3:])\n",
        "\n",
        "# how to return negative slices\n",
        "\n",
        "print(np1[-3: -1])\n",
        "\n",
        "#how to do steps?\n",
        "\n",
        "print(np1[1:5:2])\n",
        "\n",
        "# how to step the entire array?\n",
        "\n",
        "print(np1[::2])"
      ],
      "metadata": {
        "colab": {
          "base_uri": "https://localhost:8080/"
        },
        "id": "Zfpgms3Bna22",
        "outputId": "32897744-4894-4bb3-bbf6-1017fe7460cb"
      },
      "execution_count": 28,
      "outputs": [
        {
          "output_type": "stream",
          "name": "stdout",
          "text": [
            "[2 3 4 5]\n",
            "[4 5 6 7 8 9]\n",
            "[7 8]\n",
            "[2 4]\n",
            "[1 3 5 7 9]\n"
          ]
        }
      ]
    },
    {
      "cell_type": "markdown",
      "source": [
        "- slicing 2D arrays"
      ],
      "metadata": {
        "id": "wr-SuHNJo2od"
      }
    },
    {
      "cell_type": "code",
      "source": [
        "np2 = np.arange(1, 11).reshape(2, 5)\n",
        "\n",
        "#pull items out\n",
        "\n",
        "print(np2[1, 2])\n",
        "\n",
        "#slice 2-d array\n",
        "print(np2[0:1, 1:3]) # first is the row 0-1 but 1 is exclusive\n",
        "\n",
        "#slive both rows\n",
        "print(np2[0:2, 1:3])"
      ],
      "metadata": {
        "colab": {
          "base_uri": "https://localhost:8080/"
        },
        "id": "Fq9zG3QLn4wB",
        "outputId": "58cf2402-9440-4f34-a8de-0fb6c4e350e7"
      },
      "execution_count": 38,
      "outputs": [
        {
          "output_type": "stream",
          "name": "stdout",
          "text": [
            "8\n",
            "[[2 3]]\n",
            "[[2 3]\n",
            " [7 8]]\n"
          ]
        }
      ]
    },
    {
      "cell_type": "markdown",
      "source": [
        "**PART3**"
      ],
      "metadata": {
        "id": "XpkRZ0veqHV1"
      }
    },
    {
      "cell_type": "markdown",
      "source": [
        "- numpy universal function - https://numpy.org/doc/stable/reference/ufuncs.html"
      ],
      "metadata": {
        "id": "I1FXSTUlqS7U"
      }
    },
    {
      "cell_type": "code",
      "source": [
        "np1 = np.arange(-3, 10)\n",
        "\n",
        "#square root\n",
        "print(np.sqrt(np1))\n",
        "print(\"-----------------------\")\n",
        "\n",
        "#square\n",
        "print(np.square(np1))\n",
        "print(\"-----------------------\")\n",
        "\n",
        "#absolute value - abs() w.bezwzgledna\n",
        "print(np.absolute(np1))\n",
        "print(\"-----------------------\")\n",
        "\n",
        "#exponents\n",
        "print(np.exp(np1))\n",
        "print(\"-----------------------\")\n",
        "\n",
        "#min/max\n",
        "print(np.max(np1))\n",
        "print(np.min(np1))\n",
        "print(\"-----------------------\")\n",
        "\n",
        "#sign - positive or negative\n",
        "print(np.sign(np1))\n",
        "print(\"-----------------------\")\n",
        "\n",
        "#trig functions sin cos tan arcsin arccos\n",
        "print(np.sin(np1))\n",
        "print(\"-----------------------\")\n",
        "\n",
        "'''other functions are: np.greater(x, y), greater_equal, less, less_equal, equal, logical_and\n",
        "logical_or, logical_xor, logical_not\n",
        "'''"
      ],
      "metadata": {
        "colab": {
          "base_uri": "https://localhost:8080/"
        },
        "id": "Pltvcndho-qD",
        "outputId": "edc95207-0354-445a-f800-f10ce752ae79"
      },
      "execution_count": 58,
      "outputs": [
        {
          "output_type": "stream",
          "name": "stdout",
          "text": [
            "[       nan        nan        nan 0.         1.         1.41421356\n",
            " 1.73205081 2.         2.23606798 2.44948974 2.64575131 2.82842712\n",
            " 3.        ]\n",
            "-----------------------\n",
            "[ 9  4  1  0  1  4  9 16 25 36 49 64 81]\n",
            "-----------------------\n",
            "[3 2 1 0 1 2 3 4 5 6 7 8 9]\n",
            "-----------------------\n",
            "[4.97870684e-02 1.35335283e-01 3.67879441e-01 1.00000000e+00\n",
            " 2.71828183e+00 7.38905610e+00 2.00855369e+01 5.45981500e+01\n",
            " 1.48413159e+02 4.03428793e+02 1.09663316e+03 2.98095799e+03\n",
            " 8.10308393e+03]\n",
            "-----------------------\n",
            "9\n",
            "-3\n",
            "-----------------------\n",
            "[-1 -1 -1  0  1  1  1  1  1  1  1  1  1]\n",
            "-----------------------\n",
            "[-0.14112001 -0.90929743 -0.84147098  0.          0.84147098  0.90929743\n",
            "  0.14112001 -0.7568025  -0.95892427 -0.2794155   0.6569866   0.98935825\n",
            "  0.41211849]\n",
            "-----------------------\n"
          ]
        },
        {
          "output_type": "stream",
          "name": "stderr",
          "text": [
            "<ipython-input-58-8521ab1e6c8f>:4: RuntimeWarning: invalid value encountered in sqrt\n",
            "  print(np.sqrt(np1))\n"
          ]
        }
      ]
    },
    {
      "cell_type": "markdown",
      "source": [
        "**PART4**"
      ],
      "metadata": {
        "id": "-Ig10fYj4Kzz"
      }
    },
    {
      "cell_type": "markdown",
      "source": [
        "copy vs view"
      ],
      "metadata": {
        "id": "gpxZkRON4RQe"
      }
    },
    {
      "cell_type": "code",
      "source": [
        "np1 = np.arange(0, 6)\n",
        "\n",
        "#create a view - the np2 is still connected to the original np1\n",
        "np2 = np1.view()\n",
        "\n",
        "print(f'original {np1}')\n",
        "print(f'original {np2}')\n",
        "\n",
        "np1[0] = 41\n",
        "\n",
        "print(f'changed {np1}')\n",
        "print(f'original {np2}')"
      ],
      "metadata": {
        "colab": {
          "base_uri": "https://localhost:8080/"
        },
        "id": "7VLM2sV1qfGf",
        "outputId": "3b410537-4d5c-455b-dced-3d6bb4981499"
      },
      "execution_count": 60,
      "outputs": [
        {
          "output_type": "stream",
          "name": "stdout",
          "text": [
            "original [0 1 2 3 4 5]\n",
            "original [0 1 2 3 4 5]\n",
            "changed [41  1  2  3  4  5]\n",
            "original [41  1  2  3  4  5]\n"
          ]
        }
      ]
    },
    {
      "cell_type": "code",
      "source": [
        "np3 = np.arange(0, 6)\n",
        "\n",
        "#create a copy\n",
        "np4 = np3.copy()\n",
        "\n",
        "print(f'original {np3}')\n",
        "print(f'original {np4}')\n",
        "\n",
        "np3[0] = 41\n",
        "\n",
        "print(f'changed {np3}')\n",
        "print(f'original {np4}')"
      ],
      "metadata": {
        "colab": {
          "base_uri": "https://localhost:8080/"
        },
        "id": "dxQNQE464uHz",
        "outputId": "6afcc87c-febb-44e8-ba67-46b94e230854"
      },
      "execution_count": 64,
      "outputs": [
        {
          "output_type": "stream",
          "name": "stdout",
          "text": [
            "original [0 1 2 3 4 5]\n",
            "original [0 1 2 3 4 5]\n",
            "changed [41  1  2  3  4  5]\n",
            "original [0 1 2 3 4 5]\n"
          ]
        }
      ]
    },
    {
      "cell_type": "markdown",
      "source": [
        "**PART5**"
      ],
      "metadata": {
        "id": "f89pKTLn7Lg8"
      }
    },
    {
      "cell_type": "markdown",
      "source": [
        "shape and reshape"
      ],
      "metadata": {
        "id": "ZRsXXbc77H8s"
      }
    },
    {
      "cell_type": "code",
      "source": [
        "#create 1d numpy array and get shape\n",
        "\n",
        "np1 = np.array([1,2,3,4,5,6,7,8,9,10,11,12])\n",
        "print(np1.shape)\n",
        "\n",
        "#create 2d arraty and get shape\n",
        "\n",
        "np2 = np.array([[1,2,3,4,5,6], [7,8,9,10,11,12]])\n",
        "print(np2.shape)\n",
        "\n",
        "#reshape 2d\n",
        "print(np2.reshape(4, 3))\n",
        "print()\n",
        "\n",
        "#reshape 3d\n",
        "np3 = np2.reshape(2,2,3)\n",
        "print(np3)\n",
        "print(np3.shape)\n",
        "\n",
        "np3[0,0,0]\n",
        "\n",
        "#flatten to 1d\n",
        "\n",
        "np4 = np3.reshape(-1) # use -1 to convert to 1d array\n",
        "print(np4)"
      ],
      "metadata": {
        "colab": {
          "base_uri": "https://localhost:8080/"
        },
        "id": "mrHKLk3C6TBc",
        "outputId": "784cfcc4-abf4-4c3f-949a-a9c9c43de888"
      },
      "execution_count": 90,
      "outputs": [
        {
          "output_type": "stream",
          "name": "stdout",
          "text": [
            "(12,)\n",
            "(2, 6)\n",
            "[[ 1  2  3]\n",
            " [ 4  5  6]\n",
            " [ 7  8  9]\n",
            " [10 11 12]]\n",
            "\n",
            "[[[ 1  2  3]\n",
            "  [ 4  5  6]]\n",
            "\n",
            " [[ 7  8  9]\n",
            "  [10 11 12]]]\n",
            "(2, 2, 3)\n",
            "[ 1  2  3  4  5  6  7  8  9 10 11 12]\n"
          ]
        }
      ]
    },
    {
      "cell_type": "markdown",
      "source": [
        "3d coordinates"
      ],
      "metadata": {
        "id": "NOGUQYZd_g_X"
      }
    },
    {
      "cell_type": "markdown",
      "source": [
        "![image.png](data:image/png;base64,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)"
      ],
      "metadata": {
        "id": "X955itD180pf"
      }
    },
    {
      "cell_type": "markdown",
      "source": [
        "**PART6**"
      ],
      "metadata": {
        "id": "nb15EvIFA6Ne"
      }
    },
    {
      "cell_type": "markdown",
      "source": [
        "iterating through arrays"
      ],
      "metadata": {
        "id": "w67EmwbzQ1fl"
      }
    },
    {
      "cell_type": "code",
      "source": [
        "#1d array\n",
        "np1 = np.array([1,2,3,4,5])\n",
        "for i in np1:\n",
        "  print(i)"
      ],
      "metadata": {
        "colab": {
          "base_uri": "https://localhost:8080/"
        },
        "id": "weiU7Qw77Wjf",
        "outputId": "f49354a1-2d29-414d-de70-47e405dcaa01"
      },
      "execution_count": 95,
      "outputs": [
        {
          "output_type": "stream",
          "name": "stdout",
          "text": [
            "1\n",
            "2\n",
            "3\n",
            "4\n",
            "5\n"
          ]
        }
      ]
    },
    {
      "cell_type": "code",
      "source": [
        "#2d array\n",
        "\n",
        "np2 = np.arange(0,10).reshape(2, 5)\n",
        "print(np2)\n",
        "\n",
        "for i in np2:\n",
        "  for j in i:\n",
        "    print(j)"
      ],
      "metadata": {
        "colab": {
          "base_uri": "https://localhost:8080/"
        },
        "id": "IOQSwxRiQ7Ke",
        "outputId": "0023a3b6-e22e-4b0e-d695-4af443db297c"
      },
      "execution_count": 99,
      "outputs": [
        {
          "output_type": "stream",
          "name": "stdout",
          "text": [
            "[[0 1 2 3 4]\n",
            " [5 6 7 8 9]]\n",
            "0\n",
            "1\n",
            "2\n",
            "3\n",
            "4\n",
            "5\n",
            "6\n",
            "7\n",
            "8\n",
            "9\n"
          ]
        }
      ]
    },
    {
      "cell_type": "code",
      "source": [
        "#3d array\n",
        "\n",
        "np3 = np.arange(1,13).reshape(2,2,3)\n",
        "print(np3)\n",
        "\n",
        "for i in np3:\n",
        "  for j in i:\n",
        "    for k in j:\n",
        "      print(k)"
      ],
      "metadata": {
        "colab": {
          "base_uri": "https://localhost:8080/"
        },
        "id": "5gSwwp91RLhY",
        "outputId": "61474bfb-07f4-4e11-beb3-a0f052825be2"
      },
      "execution_count": 102,
      "outputs": [
        {
          "output_type": "stream",
          "name": "stdout",
          "text": [
            "[[[ 1  2  3]\n",
            "  [ 4  5  6]]\n",
            "\n",
            " [[ 7  8  9]\n",
            "  [10 11 12]]]\n",
            "1\n",
            "2\n",
            "3\n",
            "4\n",
            "5\n",
            "6\n",
            "7\n",
            "8\n",
            "9\n",
            "10\n",
            "11\n",
            "12\n"
          ]
        }
      ]
    },
    {
      "cell_type": "markdown",
      "source": [
        "**easier way!**"
      ],
      "metadata": {
        "id": "nNgJAvgeR332"
      }
    },
    {
      "cell_type": "code",
      "source": [
        "#using np.nditer()\n",
        "\n",
        "for i in np.nditer(np3):\n",
        "  print(i)"
      ],
      "metadata": {
        "colab": {
          "base_uri": "https://localhost:8080/"
        },
        "id": "AoIekFGwRo-E",
        "outputId": "a46c841a-bcf2-4e67-c5ac-6df4b4552055"
      },
      "execution_count": 103,
      "outputs": [
        {
          "output_type": "stream",
          "name": "stdout",
          "text": [
            "1\n",
            "2\n",
            "3\n",
            "4\n",
            "5\n",
            "6\n",
            "7\n",
            "8\n",
            "9\n",
            "10\n",
            "11\n",
            "12\n"
          ]
        }
      ]
    },
    {
      "cell_type": "markdown",
      "source": [
        "**PART7**"
      ],
      "metadata": {
        "id": "tTlQIEJbSLGK"
      }
    },
    {
      "cell_type": "markdown",
      "source": [
        "sorting arrays"
      ],
      "metadata": {
        "id": "HX4ZcFwTSVzQ"
      }
    },
    {
      "cell_type": "code",
      "source": [
        "#np.sort() NUMERICAL\n",
        "np1 = np.array([6,4,3,2,-1,9])\n",
        "print(np1)\n",
        "print(np.sort(np1))"
      ],
      "metadata": {
        "colab": {
          "base_uri": "https://localhost:8080/"
        },
        "id": "YC5dtOGpSBZh",
        "outputId": "759d034f-6132-47fd-ee18-55181d1592cc"
      },
      "execution_count": 105,
      "outputs": [
        {
          "output_type": "stream",
          "name": "stdout",
          "text": [
            "[ 6  4  3  2 -1  9]\n",
            "[-1  2  3  4  6  9]\n"
          ]
        }
      ]
    },
    {
      "cell_type": "code",
      "source": [
        "#ALPHABETICAL\n",
        "np2 = np.array([\"Tim\", \"Luke\", \"Matthew\", \"John\"])\n",
        "print(np2)\n",
        "print(np.sort(np2))"
      ],
      "metadata": {
        "colab": {
          "base_uri": "https://localhost:8080/"
        },
        "id": "GHqI3Z3gSdVr",
        "outputId": "f3aa5095-a1db-40af-bd5c-8b0a65faf580"
      },
      "execution_count": 107,
      "outputs": [
        {
          "output_type": "stream",
          "name": "stdout",
          "text": [
            "['Tim' 'Luke' 'Matthew' 'John']\n",
            "['John' 'Luke' 'Matthew' 'Tim']\n"
          ]
        }
      ]
    },
    {
      "cell_type": "code",
      "source": [
        "#BOOLEAN - sort from False to True\n",
        "np3 = np.array([True, False, False, True])\n",
        "print(np3)\n",
        "print(np.sort(np3))"
      ],
      "metadata": {
        "colab": {
          "base_uri": "https://localhost:8080/"
        },
        "id": "boB5y9SbSwhU",
        "outputId": "fec15859-04a5-4924-a93c-21e2aac7d379"
      },
      "execution_count": 108,
      "outputs": [
        {
          "output_type": "stream",
          "name": "stdout",
          "text": [
            "[ True False False  True]\n",
            "[False False  True  True]\n"
          ]
        }
      ]
    },
    {
      "cell_type": "code",
      "source": [
        "#return a copy not change the original\n",
        "print(np1)\n",
        "print(np.sort(np1))\n",
        "print(np1)"
      ],
      "metadata": {
        "colab": {
          "base_uri": "https://localhost:8080/"
        },
        "id": "OIsWHvdSS9Wy",
        "outputId": "339bbb72-9755-4f0a-b7f5-aa28d7a29159"
      },
      "execution_count": 109,
      "outputs": [
        {
          "output_type": "stream",
          "name": "stdout",
          "text": [
            "[ 6  4  3  2 -1  9]\n",
            "[-1  2  3  4  6  9]\n",
            "[ 6  4  3  2 -1  9]\n"
          ]
        }
      ]
    },
    {
      "cell_type": "code",
      "source": [
        "#2d array\n",
        "np4 = np.array([[1,23, 4], [3, 5, -5]])\n",
        "print(np4)\n",
        "print(np.sort(np4)) # each row is sorted"
      ],
      "metadata": {
        "colab": {
          "base_uri": "https://localhost:8080/"
        },
        "id": "XgzgoDHuTNHY",
        "outputId": "fd5f45d9-12c9-42d7-f9de-a895e21017c8"
      },
      "execution_count": 111,
      "outputs": [
        {
          "output_type": "stream",
          "name": "stdout",
          "text": [
            "[[ 1 23  4]\n",
            " [ 3  5 -5]]\n",
            "[[ 1  4 23]\n",
            " [-5  3  5]]\n"
          ]
        }
      ]
    },
    {
      "cell_type": "markdown",
      "source": [
        "**PART8**"
      ],
      "metadata": {
        "id": "YftOlkjOTncW"
      }
    },
    {
      "cell_type": "markdown",
      "source": [
        "easy searching"
      ],
      "metadata": {
        "id": "xNE7JwauTrFR"
      }
    },
    {
      "cell_type": "code",
      "source": [
        "np1 = np.array([1,2,3,4,5,6,7,8,9,10,3])\n",
        "\n",
        "x = np.where(np1 == 3) # this function returns the index number\n",
        "print(x)\n",
        "print(x[0])"
      ],
      "metadata": {
        "colab": {
          "base_uri": "https://localhost:8080/"
        },
        "id": "8mKokrXsTXBh",
        "outputId": "2beb52ca-829d-4499-8146-7a546d8e656d"
      },
      "execution_count": 123,
      "outputs": [
        {
          "output_type": "stream",
          "name": "stdout",
          "text": [
            "(array([ 2, 10]),)\n",
            "[ 2 10]\n"
          ]
        }
      ]
    },
    {
      "cell_type": "code",
      "source": [
        "print(np1[x]) # to return the actual item"
      ],
      "metadata": {
        "colab": {
          "base_uri": "https://localhost:8080/"
        },
        "id": "A2xg4V8xUQXH",
        "outputId": "d340a81d-8e81-4786-f7e1-06725b276c5b"
      },
      "execution_count": 124,
      "outputs": [
        {
          "output_type": "stream",
          "name": "stdout",
          "text": [
            "[3 3]\n"
          ]
        }
      ]
    },
    {
      "cell_type": "code",
      "source": [
        "#return even items\n",
        "\n",
        "y = np.where(np1 % 2 == 0) # index is 1 it means that the acutal number is 2\n",
        "print(y)\n",
        "\n",
        "print(np1[y]) # actual numbers"
      ],
      "metadata": {
        "colab": {
          "base_uri": "https://localhost:8080/"
        },
        "id": "68Rw9x_HUrvT",
        "outputId": "38d85d32-fbc1-4483-b7a1-8b3b1c415628"
      },
      "execution_count": 126,
      "outputs": [
        {
          "output_type": "stream",
          "name": "stdout",
          "text": [
            "(array([1, 3, 5, 7, 9]),)\n",
            "[ 2  4  6  8 10]\n"
          ]
        }
      ]
    },
    {
      "cell_type": "code",
      "source": [
        "#return odd items\n",
        "z = np.where(np1 % 2 == 1)\n",
        "print(z)\n",
        "\n",
        "print(np1[z])"
      ],
      "metadata": {
        "colab": {
          "base_uri": "https://localhost:8080/"
        },
        "id": "5KlQoBgsU78z",
        "outputId": "2aba4e70-eea5-4eb6-f3f8-f7187b36ef45"
      },
      "execution_count": 128,
      "outputs": [
        {
          "output_type": "stream",
          "name": "stdout",
          "text": [
            "(array([ 0,  2,  4,  6,  8, 10]),)\n",
            "[1 3 5 7 9 3]\n"
          ]
        }
      ]
    },
    {
      "cell_type": "markdown",
      "source": [
        "**PART9**"
      ],
      "metadata": {
        "id": "DfXfPt1aVadI"
      }
    },
    {
      "cell_type": "markdown",
      "source": [
        "filtering arrays"
      ],
      "metadata": {
        "id": "yS7ejKEMVbwQ"
      }
    },
    {
      "cell_type": "code",
      "source": [
        "np1 = np.array([1,2,3,4,5,6,7,8,9,10])\n",
        "x = [True, True, False, False, False, False, False, False, False, False ] #not effective\n",
        "\n",
        "print(np1)\n",
        "print(np1[x])"
      ],
      "metadata": {
        "colab": {
          "base_uri": "https://localhost:8080/"
        },
        "id": "ewDLIqgyVVMi",
        "outputId": "5737cd49-4c6a-4861-d8cb-6accc7e6b457"
      },
      "execution_count": 132,
      "outputs": [
        {
          "output_type": "stream",
          "name": "stdout",
          "text": [
            "[ 1  2  3  4  5  6  7  8  9 10]\n",
            "[1 2]\n"
          ]
        }
      ]
    },
    {
      "cell_type": "code",
      "source": [
        "filtered = [True if i % 2 == 0 else False for i in np1]\n",
        "\n",
        "print(filtered)"
      ],
      "metadata": {
        "colab": {
          "base_uri": "https://localhost:8080/"
        },
        "id": "iVvI7KLSVsZn",
        "outputId": "045abfae-f964-4bac-85fa-0c1685b5062d"
      },
      "execution_count": 143,
      "outputs": [
        {
          "output_type": "stream",
          "name": "stdout",
          "text": [
            "[False, True, False, True, False, True, False, True, False, True]\n"
          ]
        }
      ]
    },
    {
      "cell_type": "code",
      "source": [
        "print(np1[filtered])"
      ],
      "metadata": {
        "colab": {
          "base_uri": "https://localhost:8080/"
        },
        "id": "A99LhS15WEzG",
        "outputId": "93740cd2-565a-4b7c-e54f-f3b26728f9f4"
      },
      "execution_count": 145,
      "outputs": [
        {
          "output_type": "stream",
          "name": "stdout",
          "text": [
            "[ 2  4  6  8 10]\n"
          ]
        }
      ]
    },
    {
      "cell_type": "code",
      "source": [
        "filtered_by_5 = [True if i > 5 else False for i in np1]\n",
        "print(filtered_by_5)\n",
        "print(np1[filtered_by_5])"
      ],
      "metadata": {
        "colab": {
          "base_uri": "https://localhost:8080/"
        },
        "id": "VpbivHS9Xiuj",
        "outputId": "90127de0-5ea2-4b5c-b89b-37e8adf3e292"
      },
      "execution_count": 147,
      "outputs": [
        {
          "output_type": "stream",
          "name": "stdout",
          "text": [
            "[False, False, False, False, False, True, True, True, True, True]\n",
            "[ 6  7  8  9 10]\n"
          ]
        }
      ]
    },
    {
      "cell_type": "markdown",
      "source": [
        "easier way!"
      ],
      "metadata": {
        "id": "jG20DbXwYGaj"
      }
    },
    {
      "cell_type": "code",
      "source": [
        "filtered = np1 % 2 == 0\n",
        "print(np1)\n",
        "print(filtered)\n",
        "print(np1[filtered])"
      ],
      "metadata": {
        "colab": {
          "base_uri": "https://localhost:8080/"
        },
        "id": "eo2c2abzX10e",
        "outputId": "eb9a7b9b-e645-44bc-a4b8-b7669b1e0d29"
      },
      "execution_count": 150,
      "outputs": [
        {
          "output_type": "stream",
          "name": "stdout",
          "text": [
            "[ 1  2  3  4  5  6  7  8  9 10]\n",
            "[False  True False  True False  True False  True False  True]\n",
            "[ 2  4  6  8 10]\n"
          ]
        }
      ]
    },
    {
      "cell_type": "code",
      "source": [
        "filtered = np1 % 2 == 1\n",
        "print(np1)\n",
        "print(filtered)\n",
        "print(np1[filtered])"
      ],
      "metadata": {
        "colab": {
          "base_uri": "https://localhost:8080/"
        },
        "id": "yr8GFFFKYb3r",
        "outputId": "aee0d7b6-62cd-40b0-d609-74aa767f5c58"
      },
      "execution_count": 152,
      "outputs": [
        {
          "output_type": "stream",
          "name": "stdout",
          "text": [
            "[ 1  2  3  4  5  6  7  8  9 10]\n",
            "[ True False  True False  True False  True False  True False]\n",
            "[1 3 5 7 9]\n"
          ]
        }
      ]
    },
    {
      "cell_type": "code",
      "source": [
        "filtered_by_5 = np1 > 5\n",
        "print(filtered_by_5)\n",
        "print(np1[filtered_by_5])"
      ],
      "metadata": {
        "colab": {
          "base_uri": "https://localhost:8080/"
        },
        "id": "1o8R2mG3YL6C",
        "outputId": "3da7f9e5-69cd-4716-96db-706c11043219"
      },
      "execution_count": 151,
      "outputs": [
        {
          "output_type": "stream",
          "name": "stdout",
          "text": [
            "[False False False False False  True  True  True  True  True]\n",
            "[ 6  7  8  9 10]\n"
          ]
        }
      ]
    }
  ]
}
