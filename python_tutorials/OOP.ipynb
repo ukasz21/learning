{
  "nbformat": 4,
  "nbformat_minor": 0,
  "metadata": {
    "colab": {
      "provenance": [],
      "authorship_tag": "ABX9TyMGiEb79TAzXFmv8P9iKC7T",
      "include_colab_link": true
    },
    "kernelspec": {
      "name": "python3",
      "display_name": "Python 3"
    },
    "language_info": {
      "name": "python"
    }
  },
  "cells": [
    {
      "cell_type": "markdown",
      "metadata": {
        "id": "view-in-github",
        "colab_type": "text"
      },
      "source": [
        "<a href=\"https://colab.research.google.com/github/ukasz21/learning/blob/main/python_tutorials/OOP.ipynb\" target=\"_parent\"><img src=\"https://colab.research.google.com/assets/colab-badge.svg\" alt=\"Open In Colab\"/></a>"
      ]
    },
    {
      "cell_type": "markdown",
      "source": [
        "## **Object Oriented Programming**"
      ],
      "metadata": {
        "id": "EK7xCulxwrZZ"
      }
    },
    {
      "cell_type": "markdown",
      "source": [
        "# What is object?"
      ],
      "metadata": {
        "id": "8Rq5bx44wu__"
      }
    },
    {
      "cell_type": "code",
      "execution_count": 1,
      "metadata": {
        "colab": {
          "base_uri": "https://localhost:8080/"
        },
        "id": "CgDQDKb9wNdc",
        "outputId": "8497e264-4735-4b7d-a127-f1847c4fbe13"
      },
      "outputs": [
        {
          "output_type": "stream",
          "name": "stdout",
          "text": [
            "<class 'str'>\n"
          ]
        }
      ],
      "source": [
        "x = 1\n",
        "print(type('hello'))"
      ]
    },
    {
      "cell_type": "code",
      "source": [
        "print(type(x))"
      ],
      "metadata": {
        "colab": {
          "base_uri": "https://localhost:8080/"
        },
        "id": "sDj-8pCAw11A",
        "outputId": "ba2fef92-8f63-4933-ef80-c2c9c35dd8f1"
      },
      "execution_count": 3,
      "outputs": [
        {
          "output_type": "stream",
          "name": "stdout",
          "text": [
            "<class 'int'>\n"
          ]
        }
      ]
    },
    {
      "cell_type": "markdown",
      "source": [
        "# Methods\n"
      ],
      "metadata": {
        "id": "P8JZR0_ZxihT"
      }
    },
    {
      "cell_type": "code",
      "source": [
        "string = 'hello'\n",
        "print(string.upper()) #method"
      ],
      "metadata": {
        "colab": {
          "base_uri": "https://localhost:8080/"
        },
        "id": "UmNp9kIvxjTN",
        "outputId": "b3da7cb8-6930-4f72-ff0f-0bfaa127a604"
      },
      "execution_count": 4,
      "outputs": [
        {
          "output_type": "stream",
          "name": "stdout",
          "text": [
            "HELLO\n"
          ]
        }
      ]
    },
    {
      "cell_type": "markdown",
      "source": [
        "1. name a class\n",
        "2. inside the class define methods"
      ],
      "metadata": {
        "id": "BHd283Q9y1I0"
      }
    },
    {
      "cell_type": "code",
      "source": [
        "class Dog:\n",
        "\n",
        "  def add_one(self, x):\n",
        "    return x+1\n",
        "\n",
        "  def bark(self):\n",
        "    print('bark')\n",
        "\n",
        "d = Dog()\n",
        "print(type(d))"
      ],
      "metadata": {
        "colab": {
          "base_uri": "https://localhost:8080/"
        },
        "id": "0QGl219Vw7oT",
        "outputId": "26eab924-799c-44f1-bc6c-04bd22a897ea"
      },
      "execution_count": 10,
      "outputs": [
        {
          "output_type": "stream",
          "name": "stdout",
          "text": [
            "<class '__main__.Dog'>\n"
          ]
        }
      ]
    },
    {
      "cell_type": "code",
      "source": [
        "d.bark()\n",
        "d.add_one(5)"
      ],
      "metadata": {
        "colab": {
          "base_uri": "https://localhost:8080/"
        },
        "id": "xBKj6CaFyWb5",
        "outputId": "8d165173-9418-41e7-c15d-00bd5b97af09"
      },
      "execution_count": 11,
      "outputs": [
        {
          "output_type": "stream",
          "name": "stdout",
          "text": [
            "bark\n"
          ]
        },
        {
          "output_type": "execute_result",
          "data": {
            "text/plain": [
              "6"
            ]
          },
          "metadata": {},
          "execution_count": 11
        }
      ]
    },
    {
      "cell_type": "code",
      "source": [
        "class Dog:\n",
        "  def __init__(self, name): # this method would be called when we write this - Dog()\n",
        "    self.name = name\n",
        "    print(name)\n",
        "\n",
        "  def add_one(self, x):\n",
        "    return x+1\n",
        "\n",
        "  def bark(self):\n",
        "    print('bark')"
      ],
      "metadata": {
        "id": "GjFgDvTeywj6"
      },
      "execution_count": 15,
      "outputs": []
    },
    {
      "cell_type": "code",
      "source": [
        "d = Dog('Tim')\n",
        "d.name"
      ],
      "metadata": {
        "colab": {
          "base_uri": "https://localhost:8080/",
          "height": 53
        },
        "id": "h_k4ZLON2l74",
        "outputId": "9bdd78dd-f67a-4ba3-bac3-b65798e23da0"
      },
      "execution_count": 17,
      "outputs": [
        {
          "output_type": "stream",
          "name": "stdout",
          "text": [
            "Tim\n"
          ]
        },
        {
          "output_type": "execute_result",
          "data": {
            "text/plain": [
              "'Tim'"
            ],
            "application/vnd.google.colaboratory.intrinsic+json": {
              "type": "string"
            }
          },
          "metadata": {},
          "execution_count": 17
        }
      ]
    },
    {
      "cell_type": "code",
      "source": [
        "d2 = Dog('Bill')\n",
        "d2.name"
      ],
      "metadata": {
        "colab": {
          "base_uri": "https://localhost:8080/",
          "height": 53
        },
        "id": "vZF6on8L3Xb4",
        "outputId": "b467fbfc-afb8-4f50-cdf9-57dfff59c585"
      },
      "execution_count": 18,
      "outputs": [
        {
          "output_type": "stream",
          "name": "stdout",
          "text": [
            "Bill\n"
          ]
        },
        {
          "output_type": "execute_result",
          "data": {
            "text/plain": [
              "'Bill'"
            ],
            "application/vnd.google.colaboratory.intrinsic+json": {
              "type": "string"
            }
          },
          "metadata": {},
          "execution_count": 18
        }
      ]
    },
    {
      "cell_type": "code",
      "source": [
        "class Dog:\n",
        "  def __init__(self, name, age): # this method would be called when we write this - Dog()\n",
        "    self.name = name\n",
        "    self.age = age\n",
        "    print(name)\n",
        "\n",
        "  def get_name(self):\n",
        "    return self.name\n",
        "\n",
        "  def get_age(self):\n",
        "    return self.age\n",
        "\n",
        "  def set_age(self, age):\n",
        "    self.age = age\n",
        "\n",
        "d = Dog('Tim', 24)\n",
        "d2 = Dog('Bill', 44)\n",
        "d.get_name()\n",
        "d.get_age()\n",
        "\n",
        "d.set_age(33)\n",
        "d.get_age()"
      ],
      "metadata": {
        "colab": {
          "base_uri": "https://localhost:8080/"
        },
        "id": "DCj-pbPC3oLe",
        "outputId": "20d46022-924f-4043-d7da-a233921ebc30"
      },
      "execution_count": 26,
      "outputs": [
        {
          "output_type": "stream",
          "name": "stdout",
          "text": [
            "Tim\n",
            "Bill\n"
          ]
        },
        {
          "output_type": "execute_result",
          "data": {
            "text/plain": [
              "33"
            ]
          },
          "metadata": {},
          "execution_count": 26
        }
      ]
    },
    {
      "cell_type": "markdown",
      "source": [
        "# Multiple classes"
      ],
      "metadata": {
        "id": "BdpV1Hh85JRn"
      }
    },
    {
      "cell_type": "code",
      "source": [
        "class Student:\n",
        "  def __init__(self, name, age, grade):\n",
        "    self.name = name\n",
        "    self.age = age\n",
        "    self.grade = grade # 0 - 100\n",
        "\n",
        "  def get_grade(self):\n",
        "    return self.grade\n",
        "\n",
        "class Course:\n",
        "  def __init__(self, name, max_students):\n",
        "    self.name = name\n",
        "    self.max_students = max_students\n",
        "    self.students = []\n",
        "\n",
        "  def add_students(self, student):\n",
        "    if len(self.students) < self.max_students:\n",
        "      self.students.append(student)\n",
        "      return True\n",
        "    return False\n",
        "\n",
        "  def get_average_grade(self):\n",
        "    value = 0\n",
        "    for student in self.students:\n",
        "      value += student.get_grade()\n",
        "\n",
        "    return value / len(self.students)"
      ],
      "metadata": {
        "id": "e5n8pU7S4Axi"
      },
      "execution_count": 45,
      "outputs": []
    },
    {
      "cell_type": "markdown",
      "source": [
        "init students"
      ],
      "metadata": {
        "id": "vYLiogXN7hog"
      }
    },
    {
      "cell_type": "code",
      "source": [
        "s1 = Student(\"tim\", 19, 95)\n",
        "s2 = Student(\"bill\", 19, 66)\n",
        "s3 = Student(\"jill\", 19, 33)"
      ],
      "metadata": {
        "id": "qie9rDHb6Yq7"
      },
      "execution_count": 39,
      "outputs": []
    },
    {
      "cell_type": "markdown",
      "source": [
        "add students"
      ],
      "metadata": {
        "id": "oj3H4o1v7u2q"
      }
    },
    {
      "cell_type": "code",
      "source": [
        "course = Course(\"science\", 2)\n",
        "course.add_students(s1)\n",
        "course.add_students(s2)\n",
        "course.add_students(s3)"
      ],
      "metadata": {
        "colab": {
          "base_uri": "https://localhost:8080/"
        },
        "id": "C13Sr1OX7q88",
        "outputId": "70962403-b2b7-49a2-fb00-f06f20e415de"
      },
      "execution_count": 44,
      "outputs": [
        {
          "output_type": "execute_result",
          "data": {
            "text/plain": [
              "False"
            ]
          },
          "metadata": {},
          "execution_count": 44
        }
      ]
    },
    {
      "cell_type": "markdown",
      "source": [
        "average grade"
      ],
      "metadata": {
        "id": "sQTwqUl88M1i"
      }
    },
    {
      "cell_type": "code",
      "source": [
        "course.get_average_grade()"
      ],
      "metadata": {
        "colab": {
          "base_uri": "https://localhost:8080/"
        },
        "id": "cs8xlVx_8KQM",
        "outputId": "b0cd4d9d-8b58-4c32-d844-29cf5bb91703"
      },
      "execution_count": 43,
      "outputs": [
        {
          "output_type": "execute_result",
          "data": {
            "text/plain": [
              "80.5"
            ]
          },
          "metadata": {},
          "execution_count": 43
        }
      ]
    },
    {
      "cell_type": "code",
      "source": [
        "print(course.students[0].name)"
      ],
      "metadata": {
        "colab": {
          "base_uri": "https://localhost:8080/"
        },
        "id": "DfscMhl17md0",
        "outputId": "3c2cb2b8-ac41-4460-bebe-479a5fc61a38"
      },
      "execution_count": 38,
      "outputs": [
        {
          "output_type": "stream",
          "name": "stdout",
          "text": [
            "tim\n"
          ]
        }
      ]
    },
    {
      "cell_type": "markdown",
      "source": [
        "# Inheritance"
      ],
      "metadata": {
        "id": "wSAfnufx8PCB"
      }
    },
    {
      "cell_type": "code",
      "source": [
        "# __init__ is the same in both classes\n",
        "\n",
        "class Cat:\n",
        "  def __init__(self, name, age):\n",
        "    self.name = name\n",
        "    self.age = age\n",
        "\n",
        "  def speak(self):\n",
        "    print(\"meow\")\n",
        "\n",
        "class Dog:\n",
        "  def __init__(self, name, age):\n",
        "    self.name = name\n",
        "    self.age = age\n",
        "\n",
        "  def speak(self):\n",
        "    print(\"Bark\")\n"
      ],
      "metadata": {
        "id": "RjGbUHfb7nj7"
      },
      "execution_count": 47,
      "outputs": []
    },
    {
      "cell_type": "markdown",
      "source": [
        "inheriting the class Pet"
      ],
      "metadata": {
        "id": "T71VA1fb9LHm"
      }
    },
    {
      "cell_type": "code",
      "source": [
        "class Pet:\n",
        "  def __init__(self, name, age):\n",
        "    self.name = name\n",
        "    self.age = age\n",
        "\n",
        "  def show(self):\n",
        "    print(f'I am {self.name} and i am {self.age} years old')\n",
        "\n",
        "class Cat(Pet):\n",
        "  def speak(self):\n",
        "    print(\"meow\")\n",
        "\n",
        "class Dog(Pet):\n",
        "  def speak(self):\n",
        "    print(\"Bark\")"
      ],
      "metadata": {
        "id": "7Nim5_4r83qA"
      },
      "execution_count": 48,
      "outputs": []
    },
    {
      "cell_type": "code",
      "source": [
        "p = Pet(\"tim\", 19)\n",
        "p.show()\n",
        "\n",
        "c = Cat(\"bill\", 22)\n",
        "c.show() # there is no method in Cat called show but it uses inheritance\n",
        "c.speak()\n",
        "\n",
        "d = Dog(\"tim2\", 44)\n",
        "d.show()\n",
        "d.speak()"
      ],
      "metadata": {
        "colab": {
          "base_uri": "https://localhost:8080/"
        },
        "id": "cnYFKxQa9SiF",
        "outputId": "8f1b9954-fbd7-4114-c0f0-ce740e542fb8"
      },
      "execution_count": 54,
      "outputs": [
        {
          "output_type": "stream",
          "name": "stdout",
          "text": [
            "I am tim and i am 19 years old\n",
            "I am bill and i am 22 years old\n",
            "meow\n",
            "I am tim2 and i am 44 years old\n",
            "Bark\n"
          ]
        }
      ]
    },
    {
      "cell_type": "code",
      "source": [
        "class Pet:\n",
        "  def __init__(self, name, age):\n",
        "    self.name = name\n",
        "    self.age = age\n",
        "\n",
        "  def show(self):\n",
        "    print(f'I am {self.name} and i am {self.age} years old')\n",
        "\n",
        "  def speak(self):\n",
        "    print('i dont know what i say')\n",
        "\n",
        "class Cat(Pet):\n",
        "  def speak(self):\n",
        "    print(\"meow\")\n",
        "\n",
        "class Dog(Pet):\n",
        "  def speak(self):\n",
        "    print(\"Bark\")"
      ],
      "metadata": {
        "id": "mURWOxyX9V9A"
      },
      "execution_count": 55,
      "outputs": []
    },
    {
      "cell_type": "markdown",
      "source": [
        "the speak method in child class will overwrite the parent class"
      ],
      "metadata": {
        "id": "6A3xfR57-XJL"
      }
    },
    {
      "cell_type": "code",
      "source": [
        "p = Pet(\"tim\", 19)\n",
        "p.speak()\n",
        "\n",
        "c = Cat(\"bill\", 22)\n",
        "c.show()\n",
        "c.speak()\n",
        "\n",
        "d = Dog(\"tim2\", 44)\n",
        "d.show()\n",
        "d.speak()"
      ],
      "metadata": {
        "colab": {
          "base_uri": "https://localhost:8080/"
        },
        "id": "OpytnVJ6-A_t",
        "outputId": "fdfee84a-b1b4-4ad2-f011-e90879ad5311"
      },
      "execution_count": 57,
      "outputs": [
        {
          "output_type": "stream",
          "name": "stdout",
          "text": [
            "i dont know what i say\n",
            "I am bill and i am 22 years old\n",
            "meow\n",
            "I am tim2 and i am 44 years old\n",
            "Bark\n"
          ]
        }
      ]
    },
    {
      "cell_type": "code",
      "source": [
        "class Fish(Pet):\n",
        "  pass\n",
        "\n",
        "f = Fish(\"bubbles\", 11)\n",
        "f.speak()"
      ],
      "metadata": {
        "colab": {
          "base_uri": "https://localhost:8080/"
        },
        "id": "ColiPT09Bl0q",
        "outputId": "14d26b5d-66ed-482e-98d8-0c12726f8880"
      },
      "execution_count": 58,
      "outputs": [
        {
          "output_type": "stream",
          "name": "stdout",
          "text": [
            "i dont know what i say\n"
          ]
        }
      ]
    },
    {
      "cell_type": "code",
      "source": [
        "class Pet:\n",
        "  def __init__(self, name, age):\n",
        "    self.name = name\n",
        "    self.age = age\n",
        "\n",
        "  def show(self):\n",
        "    print(f'I am {self.name} and i am {self.age} years old')\n",
        "\n",
        "  def speak(self):\n",
        "    print('i dont know what i say')\n",
        "\n",
        "class Cat(Pet):\n",
        "  def __init__(self, name, age, color):\n",
        "    super().__init__(name, age) # super() is the parent class\n",
        "    self.color = color\n",
        "\n",
        "  def speak(self):\n",
        "    print(\"meow\")\n",
        "\n",
        "  def show(self):\n",
        "    print(f'I am {self.name} and i am {self.age} years old and i am {self.color}')\n",
        "\n",
        "class Dog(Pet):\n",
        "  def speak(self):\n",
        "    print(\"Bark\")"
      ],
      "metadata": {
        "id": "R0ptSG6bBtcj"
      },
      "execution_count": 62,
      "outputs": []
    },
    {
      "cell_type": "code",
      "source": [
        "p = Pet(\"tim\", 19)\n",
        "p.speak()\n",
        "c = Cat(\"bill\", 34, 'brown')\n",
        "c.show()\n",
        "d = Dog(\"jill\", 25)\n",
        "d.speak()"
      ],
      "metadata": {
        "colab": {
          "base_uri": "https://localhost:8080/"
        },
        "id": "8fSagO8VC2bN",
        "outputId": "fead42e9-af52-4c39-ac96-7cab496c7165"
      },
      "execution_count": 63,
      "outputs": [
        {
          "output_type": "stream",
          "name": "stdout",
          "text": [
            "i dont know what i say\n",
            "I am bill and i am 34 years old and i am brown\n",
            "Bark\n"
          ]
        }
      ]
    },
    {
      "cell_type": "markdown",
      "source": [
        "# Class atributes"
      ],
      "metadata": {
        "id": "TB_pAhgUEeTB"
      }
    },
    {
      "cell_type": "markdown",
      "source": [
        "using class atributes"
      ],
      "metadata": {
        "id": "e-5JQkvbFtuQ"
      }
    },
    {
      "cell_type": "code",
      "source": [
        "class Person:\n",
        "  num_of_people = 0 # class atribute\n",
        "\n",
        "  def __init__(self, name):\n",
        "    self.name = name\n",
        "\n",
        "p1 = Person('Tim')\n",
        "p2 = Person(\"Jill\")\n",
        "\n",
        "Person.num_of_people = 8\n",
        "print(p2.num_of_people)\n",
        "Person.num_of_people = 9\n",
        "print(p1.num_of_people)\n"
      ],
      "metadata": {
        "colab": {
          "base_uri": "https://localhost:8080/"
        },
        "id": "JRoYGdKREgi1",
        "outputId": "922e7520-5933-4b48-fc86-b0adf6dbbe18"
      },
      "execution_count": 73,
      "outputs": [
        {
          "output_type": "stream",
          "name": "stdout",
          "text": [
            "8\n",
            "9\n"
          ]
        }
      ]
    },
    {
      "cell_type": "code",
      "source": [
        "class Person:\n",
        "  num_of_people = 0\n",
        "\n",
        "  def __init__(self, name):\n",
        "    self.name = name\n",
        "    Person.num_of_people += 1\n",
        "\n",
        "p1 = Person('Tim')\n",
        "p2 = Person(\"Jill\")\n",
        "print(Person.num_of_people)"
      ],
      "metadata": {
        "colab": {
          "base_uri": "https://localhost:8080/"
        },
        "id": "O3pSvidXEzqF",
        "outputId": "0089d401-3345-4bfa-af10-d992cc8c1748"
      },
      "execution_count": 74,
      "outputs": [
        {
          "output_type": "stream",
          "name": "stdout",
          "text": [
            "2\n"
          ]
        }
      ]
    },
    {
      "cell_type": "markdown",
      "source": [
        "class methods"
      ],
      "metadata": {
        "id": "zSgiVLStHI-y"
      }
    },
    {
      "cell_type": "code",
      "source": [
        "class Person:\n",
        "  num_of_people = 0\n",
        "\n",
        "  def __init__(self, name):\n",
        "    self.name = name\n",
        "    Person.add_person()\n",
        "\n",
        "  @classmethod\n",
        "  def num_of_people_(cls):\n",
        "    return cls.num_of_people\n",
        "\n",
        "  @classmethod\n",
        "  def add_person(cls):\n",
        "    cls.num_of_people += 1\n",
        "\n",
        "p1 = Person('Tim')\n",
        "p2 = Person(\"Jill\")\n",
        "\n",
        "Person.num_of_people_()"
      ],
      "metadata": {
        "colab": {
          "base_uri": "https://localhost:8080/"
        },
        "id": "6P03tMD2FrSJ",
        "outputId": "1c308f11-11ac-4f76-d4bc-e2d333f83194"
      },
      "execution_count": 79,
      "outputs": [
        {
          "output_type": "execute_result",
          "data": {
            "text/plain": [
              "2"
            ]
          },
          "metadata": {},
          "execution_count": 79
        }
      ]
    },
    {
      "cell_type": "markdown",
      "source": [
        "static methods"
      ],
      "metadata": {
        "id": "GUXsoHBcH2Nd"
      }
    },
    {
      "cell_type": "code",
      "source": [
        "class Math:\n",
        "\n",
        "  @staticmethod\n",
        "  def add5(x):\n",
        "    return x + 5\n",
        "\n",
        "  @staticmethod\n",
        "  def add10(x):\n",
        "    return x + 10\n",
        "\n",
        "  @staticmethod\n",
        "  def pr():\n",
        "    print(\"run\")\n",
        "\n",
        "print(Math.add10(3))\n",
        "Math.pr()"
      ],
      "metadata": {
        "colab": {
          "base_uri": "https://localhost:8080/"
        },
        "id": "vBJIBP8nHhwG",
        "outputId": "b539220d-e303-4260-bc61-7e8ccd0f8ab9"
      },
      "execution_count": 90,
      "outputs": [
        {
          "output_type": "stream",
          "name": "stdout",
          "text": [
            "13\n",
            "run\n"
          ]
        }
      ]
    },
    {
      "cell_type": "markdown",
      "source": [
        "# EXERCISES"
      ],
      "metadata": {
        "id": "zcYJsdW_WkJG"
      }
    },
    {
      "cell_type": "markdown",
      "source": [
        "1"
      ],
      "metadata": {
        "id": "OAcBU8xJYffK"
      }
    },
    {
      "cell_type": "code",
      "source": [
        "import math\n",
        "\n",
        "class Circle:\n",
        "  def __init__(self, r):\n",
        "    self.r = r\n",
        "  def calculate_area(self):\n",
        "    return math.pi * self.r**2\n",
        "  def calculate_perimeter(self):\n",
        "    return 2*math.pi*self.r\n",
        "\n",
        "c = Circle(5)\n",
        "c.calculate_area()\n",
        "c.calculate_perimeter()"
      ],
      "metadata": {
        "colab": {
          "base_uri": "https://localhost:8080/"
        },
        "id": "mlF24NroWmvb",
        "outputId": "03abe566-d645-4abe-86f2-9830ef33a9db"
      },
      "execution_count": 3,
      "outputs": [
        {
          "output_type": "execute_result",
          "data": {
            "text/plain": [
              "31.41592653589793"
            ]
          },
          "metadata": {},
          "execution_count": 3
        }
      ]
    },
    {
      "cell_type": "markdown",
      "source": [
        "2"
      ],
      "metadata": {
        "id": "naUctDmrYgNS"
      }
    },
    {
      "cell_type": "code",
      "source": [
        "from datetime import date\n",
        "\n",
        "class Person:\n",
        "  def __init__(self, name, country, date):\n",
        "    self.name = name\n",
        "    self.country = country\n",
        "    self.date = date\n",
        "\n",
        "  def calculate_age(self):\n",
        "    today = date.today()\n",
        "    age = today.year - self.date.year\n",
        "    if today < date(today.year, self.date.month, self.date.day):\n",
        "      age -= 1\n",
        "    return age\n",
        "\n",
        "p = Person('imie', 'polska', date(2024, 3, 20))\n",
        "p.calculate_age()"
      ],
      "metadata": {
        "colab": {
          "base_uri": "https://localhost:8080/"
        },
        "id": "_MUMFNgbX3jd",
        "outputId": "2c11a214-9550-48cf-de41-243824a2ab15"
      },
      "execution_count": 112,
      "outputs": [
        {
          "output_type": "execute_result",
          "data": {
            "text/plain": [
              "-1"
            ]
          },
          "metadata": {},
          "execution_count": 112
        }
      ]
    },
    {
      "cell_type": "markdown",
      "source": [
        "3"
      ],
      "metadata": {
        "id": "G3wVkEUIZ-b_"
      }
    },
    {
      "cell_type": "code",
      "source": [
        "class Calculator:\n",
        "  def add(self, x, y):\n",
        "    return x+y\n",
        "  def subtract(self, x, y):\n",
        "    return x-y\n",
        "  def multiply(self, x, y):\n",
        "    return x*y\n",
        "  def divide(self, x, y):\n",
        "    if y != 0:\n",
        "      return x/y\n",
        "    else:\n",
        "      return 'cannot divide by zero'\n",
        "\n",
        "c = Calculator()\n",
        "\n",
        "add = c.add(4,5)\n",
        "add\n",
        "subtract = c.subtract(4,5)\n",
        "subtract\n",
        "multiply = c.multiply(4,5)\n",
        "multiply\n",
        "divide = c.divide(4, 0)\n",
        "divide"
      ],
      "metadata": {
        "colab": {
          "base_uri": "https://localhost:8080/",
          "height": 35
        },
        "id": "Ij_FBWPdZD_T",
        "outputId": "33c21967-51ca-4fb3-d143-4b9370235c01"
      },
      "execution_count": 119,
      "outputs": [
        {
          "output_type": "execute_result",
          "data": {
            "text/plain": [
              "'cannot divide by zero'"
            ],
            "application/vnd.google.colaboratory.intrinsic+json": {
              "type": "string"
            }
          },
          "metadata": {},
          "execution_count": 119
        }
      ]
    },
    {
      "cell_type": "markdown",
      "source": [
        "4"
      ],
      "metadata": {
        "id": "8bFJpFDqFlkh"
      }
    },
    {
      "cell_type": "code",
      "source": [
        "from pickle import SHORT_BINBYTES\n",
        "class Shape:\n",
        "  def calculate_area(self):\n",
        "    pass\n",
        "  def calculate_perimeter(self):\n",
        "    pass\n",
        "\n",
        "class Circle(Shape):\n",
        "  def __init__(self, r):\n",
        "    self.r = r\n",
        "  def calculate_area(self):\n",
        "    return math.pi * self.r**2\n",
        "  def calculate_perimeter(self):\n",
        "    return 2*math.pi*self.r\n",
        "\n",
        "class Triangle(Shape):\n",
        "  def __init__(self, a, h, y, z):\n",
        "    self.a = a\n",
        "    self.h = h\n",
        "    self.y = y\n",
        "    self.z = z\n",
        "  def calculate_area(self):\n",
        "    return self.a * self.h * 1/2\n",
        "  def calculate_perimeter(self):\n",
        "    sides = [self.a, self.y, self.z]\n",
        "    sort = sorted(sides)\n",
        "    if sort[0] + sort[1] > sort[2]:\n",
        "      return self.a + self.y + self.z\n",
        "    return 'The traingle does not exist'\n",
        "\n",
        "\n",
        "class Rectangle(Shape):\n",
        "  def __init__(self, a, b):\n",
        "    self.a = a\n",
        "    self.b = b\n",
        "  def calculate_area(self):\n",
        "    return self.a * self.b\n",
        "  def calculate_perimeter(self):\n",
        "    return 2*self.a + 2*self.b\n",
        "\n",
        "\n",
        "t = Triangle(5, 4, 4, 3)\n",
        "t.calculate_perimeter()\n",
        "\n",
        "c = Circle(5)\n",
        "c.calculate_area()\n",
        "\n",
        "r = Rectangle(5, 5)\n",
        "r.calculate_area()\n",
        "r.calculate_perimeter()"
      ],
      "metadata": {
        "colab": {
          "base_uri": "https://localhost:8080/"
        },
        "id": "9l4LjCnjambE",
        "outputId": "a62de661-8e94-45f5-d139-049a207a160a"
      },
      "execution_count": 60,
      "outputs": [
        {
          "output_type": "execute_result",
          "data": {
            "text/plain": [
              "20"
            ]
          },
          "metadata": {},
          "execution_count": 60
        }
      ]
    },
    {
      "cell_type": "markdown",
      "source": [
        "5"
      ],
      "metadata": {
        "id": "EksEljp7Fmy-"
      }
    },
    {
      "cell_type": "code",
      "source": [
        "class Queue:\n",
        "  def __init__(self, items):\n",
        "    self.items = items\n",
        "\n",
        "    array = []\n",
        "    array += self.items\n",
        "\n",
        "  def enqueue(self, item):\n",
        "    self.items.append(item)\n",
        "    return self.items\n",
        "\n",
        "  def dequeue(self, item):\n",
        "    if item in self.items:\n",
        "      self.items.remove(item)\n",
        "    return self.items\n",
        "\n",
        "q = Queue([3, 3, 44, 34])\n",
        "q.enqueue(3)\n",
        "q.enqueue(2)\n",
        "q.dequeue(2)"
      ],
      "metadata": {
        "colab": {
          "base_uri": "https://localhost:8080/"
        },
        "id": "oVjdT6g-Fnlc",
        "outputId": "6668969e-8854-46ec-b1ab-0b9fab157e04"
      },
      "execution_count": 99,
      "outputs": [
        {
          "output_type": "execute_result",
          "data": {
            "text/plain": [
              "[3, 3, 44, 34, 3]"
            ]
          },
          "metadata": {},
          "execution_count": 99
        }
      ]
    }
  ]
}